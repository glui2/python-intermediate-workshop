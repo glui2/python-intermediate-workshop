{
 "cells": [
  {
   "cell_type": "markdown",
   "metadata": {},
   "source": [
    "# Welcome to Day 2\n",
    "For later... https://bit.ly/2MEcpYM"
   ]
  },
  {
   "cell_type": "markdown",
   "metadata": {},
   "source": [
    "# More Time Series Analysis"
   ]
  },
  {
   "cell_type": "code",
   "execution_count": 1,
   "metadata": {},
   "outputs": [],
   "source": [
    "import pandas as pd"
   ]
  },
  {
   "cell_type": "markdown",
   "metadata": {},
   "source": [
    "## Interpolation"
   ]
  },
  {
   "cell_type": "code",
   "execution_count": 46,
   "metadata": {},
   "outputs": [],
   "source": [
    "rain = pd.read_csv(\"D:/Data/Rainfall/10010.csv\", names=[\"Date\", \"Rain\"], index_col=\"Date\", parse_dates=[\"Date\"])"
   ]
  },
  {
   "cell_type": "code",
   "execution_count": 47,
   "metadata": {},
   "outputs": [],
   "source": [
    "weekly = rain.asfreq(\"W\")"
   ]
  },
  {
   "cell_type": "code",
   "execution_count": 48,
   "metadata": {},
   "outputs": [],
   "source": [
    "rain['weekly'] = weekly"
   ]
  },
  {
   "cell_type": "code",
   "execution_count": 8,
   "metadata": {
    "collapsed": true
   },
   "outputs": [
    {
     "data": {
      "text/html": [
       "<div>\n",
       "<style scoped>\n",
       "    .dataframe tbody tr th:only-of-type {\n",
       "        vertical-align: middle;\n",
       "    }\n",
       "\n",
       "    .dataframe tbody tr th {\n",
       "        vertical-align: top;\n",
       "    }\n",
       "\n",
       "    .dataframe thead th {\n",
       "        text-align: right;\n",
       "    }\n",
       "</style>\n",
       "<table border=\"1\" class=\"dataframe\">\n",
       "  <thead>\n",
       "    <tr style=\"text-align: right;\">\n",
       "      <th></th>\n",
       "      <th>Rain</th>\n",
       "      <th>weekly</th>\n",
       "    </tr>\n",
       "    <tr>\n",
       "      <th>Date</th>\n",
       "      <th></th>\n",
       "      <th></th>\n",
       "    </tr>\n",
       "  </thead>\n",
       "  <tbody>\n",
       "    <tr>\n",
       "      <th>2000-01-01</th>\n",
       "      <td>179.514368</td>\n",
       "      <td>NaN</td>\n",
       "    </tr>\n",
       "    <tr>\n",
       "      <th>2000-02-01</th>\n",
       "      <td>130.529529</td>\n",
       "      <td>NaN</td>\n",
       "    </tr>\n",
       "    <tr>\n",
       "      <th>2000-03-01</th>\n",
       "      <td>235.893511</td>\n",
       "      <td>NaN</td>\n",
       "    </tr>\n",
       "    <tr>\n",
       "      <th>2000-04-01</th>\n",
       "      <td>298.959012</td>\n",
       "      <td>NaN</td>\n",
       "    </tr>\n",
       "    <tr>\n",
       "      <th>2000-05-01</th>\n",
       "      <td>282.654166</td>\n",
       "      <td>NaN</td>\n",
       "    </tr>\n",
       "    <tr>\n",
       "      <th>2000-06-01</th>\n",
       "      <td>204.684638</td>\n",
       "      <td>NaN</td>\n",
       "    </tr>\n",
       "    <tr>\n",
       "      <th>2000-07-01</th>\n",
       "      <td>161.817207</td>\n",
       "      <td>NaN</td>\n",
       "    </tr>\n",
       "    <tr>\n",
       "      <th>2000-08-01</th>\n",
       "      <td>133.597649</td>\n",
       "      <td>NaN</td>\n",
       "    </tr>\n",
       "    <tr>\n",
       "      <th>2000-09-01</th>\n",
       "      <td>112.913940</td>\n",
       "      <td>NaN</td>\n",
       "    </tr>\n",
       "    <tr>\n",
       "      <th>2000-10-01</th>\n",
       "      <td>95.579422</td>\n",
       "      <td>95.579422</td>\n",
       "    </tr>\n",
       "    <tr>\n",
       "      <th>2000-11-01</th>\n",
       "      <td>144.688923</td>\n",
       "      <td>NaN</td>\n",
       "    </tr>\n",
       "    <tr>\n",
       "      <th>2000-12-01</th>\n",
       "      <td>145.499279</td>\n",
       "      <td>NaN</td>\n",
       "    </tr>\n",
       "    <tr>\n",
       "      <th>2000-01-13</th>\n",
       "      <td>168.887176</td>\n",
       "      <td>NaN</td>\n",
       "    </tr>\n",
       "    <tr>\n",
       "      <th>2000-01-14</th>\n",
       "      <td>132.044115</td>\n",
       "      <td>NaN</td>\n",
       "    </tr>\n",
       "    <tr>\n",
       "      <th>2000-01-15</th>\n",
       "      <td>93.822746</td>\n",
       "      <td>NaN</td>\n",
       "    </tr>\n",
       "    <tr>\n",
       "      <th>2000-01-16</th>\n",
       "      <td>74.009799</td>\n",
       "      <td>74.009799</td>\n",
       "    </tr>\n",
       "    <tr>\n",
       "      <th>2000-01-17</th>\n",
       "      <td>61.887331</td>\n",
       "      <td>NaN</td>\n",
       "    </tr>\n",
       "    <tr>\n",
       "      <th>2000-01-18</th>\n",
       "      <td>52.246854</td>\n",
       "      <td>NaN</td>\n",
       "    </tr>\n",
       "    <tr>\n",
       "      <th>2000-01-19</th>\n",
       "      <td>43.770603</td>\n",
       "      <td>NaN</td>\n",
       "    </tr>\n",
       "    <tr>\n",
       "      <th>2000-01-20</th>\n",
       "      <td>38.374772</td>\n",
       "      <td>NaN</td>\n",
       "    </tr>\n",
       "    <tr>\n",
       "      <th>2000-01-21</th>\n",
       "      <td>35.589554</td>\n",
       "      <td>NaN</td>\n",
       "    </tr>\n",
       "    <tr>\n",
       "      <th>2000-01-22</th>\n",
       "      <td>32.350098</td>\n",
       "      <td>NaN</td>\n",
       "    </tr>\n",
       "    <tr>\n",
       "      <th>2000-01-23</th>\n",
       "      <td>30.094228</td>\n",
       "      <td>30.094228</td>\n",
       "    </tr>\n",
       "    <tr>\n",
       "      <th>2000-01-24</th>\n",
       "      <td>29.494385</td>\n",
       "      <td>NaN</td>\n",
       "    </tr>\n",
       "    <tr>\n",
       "      <th>2000-01-25</th>\n",
       "      <td>28.242607</td>\n",
       "      <td>NaN</td>\n",
       "    </tr>\n",
       "    <tr>\n",
       "      <th>2000-01-26</th>\n",
       "      <td>63.846427</td>\n",
       "      <td>NaN</td>\n",
       "    </tr>\n",
       "    <tr>\n",
       "      <th>2000-01-27</th>\n",
       "      <td>52.808602</td>\n",
       "      <td>NaN</td>\n",
       "    </tr>\n",
       "    <tr>\n",
       "      <th>2000-01-28</th>\n",
       "      <td>38.133710</td>\n",
       "      <td>NaN</td>\n",
       "    </tr>\n",
       "    <tr>\n",
       "      <th>2000-01-29</th>\n",
       "      <td>51.114249</td>\n",
       "      <td>NaN</td>\n",
       "    </tr>\n",
       "    <tr>\n",
       "      <th>2000-01-30</th>\n",
       "      <td>127.353199</td>\n",
       "      <td>127.353199</td>\n",
       "    </tr>\n",
       "    <tr>\n",
       "      <th>...</th>\n",
       "      <td>...</td>\n",
       "      <td>...</td>\n",
       "    </tr>\n",
       "    <tr>\n",
       "      <th>2000-02-12</th>\n",
       "      <td>52.238804</td>\n",
       "      <td>NaN</td>\n",
       "    </tr>\n",
       "    <tr>\n",
       "      <th>2000-03-12</th>\n",
       "      <td>46.616422</td>\n",
       "      <td>46.616422</td>\n",
       "    </tr>\n",
       "    <tr>\n",
       "      <th>2000-04-12</th>\n",
       "      <td>84.466276</td>\n",
       "      <td>NaN</td>\n",
       "    </tr>\n",
       "    <tr>\n",
       "      <th>2000-05-12</th>\n",
       "      <td>89.444039</td>\n",
       "      <td>NaN</td>\n",
       "    </tr>\n",
       "    <tr>\n",
       "      <th>2000-06-12</th>\n",
       "      <td>838.754313</td>\n",
       "      <td>NaN</td>\n",
       "    </tr>\n",
       "    <tr>\n",
       "      <th>2000-07-12</th>\n",
       "      <td>961.011570</td>\n",
       "      <td>NaN</td>\n",
       "    </tr>\n",
       "    <tr>\n",
       "      <th>2000-08-12</th>\n",
       "      <td>606.231253</td>\n",
       "      <td>NaN</td>\n",
       "    </tr>\n",
       "    <tr>\n",
       "      <th>2000-09-12</th>\n",
       "      <td>463.833317</td>\n",
       "      <td>NaN</td>\n",
       "    </tr>\n",
       "    <tr>\n",
       "      <th>2000-10-12</th>\n",
       "      <td>422.110822</td>\n",
       "      <td>NaN</td>\n",
       "    </tr>\n",
       "    <tr>\n",
       "      <th>2000-11-12</th>\n",
       "      <td>402.234885</td>\n",
       "      <td>402.234885</td>\n",
       "    </tr>\n",
       "    <tr>\n",
       "      <th>2000-12-12</th>\n",
       "      <td>597.853864</td>\n",
       "      <td>NaN</td>\n",
       "    </tr>\n",
       "    <tr>\n",
       "      <th>2000-12-13</th>\n",
       "      <td>521.805640</td>\n",
       "      <td>NaN</td>\n",
       "    </tr>\n",
       "    <tr>\n",
       "      <th>2000-12-14</th>\n",
       "      <td>414.793011</td>\n",
       "      <td>NaN</td>\n",
       "    </tr>\n",
       "    <tr>\n",
       "      <th>2000-12-15</th>\n",
       "      <td>391.499750</td>\n",
       "      <td>NaN</td>\n",
       "    </tr>\n",
       "    <tr>\n",
       "      <th>2000-12-16</th>\n",
       "      <td>336.673980</td>\n",
       "      <td>NaN</td>\n",
       "    </tr>\n",
       "    <tr>\n",
       "      <th>2000-12-17</th>\n",
       "      <td>385.513662</td>\n",
       "      <td>385.513662</td>\n",
       "    </tr>\n",
       "    <tr>\n",
       "      <th>2000-12-18</th>\n",
       "      <td>613.565733</td>\n",
       "      <td>NaN</td>\n",
       "    </tr>\n",
       "    <tr>\n",
       "      <th>2000-12-19</th>\n",
       "      <td>783.867652</td>\n",
       "      <td>NaN</td>\n",
       "    </tr>\n",
       "    <tr>\n",
       "      <th>2000-12-20</th>\n",
       "      <td>831.863875</td>\n",
       "      <td>NaN</td>\n",
       "    </tr>\n",
       "    <tr>\n",
       "      <th>2000-12-21</th>\n",
       "      <td>649.366125</td>\n",
       "      <td>NaN</td>\n",
       "    </tr>\n",
       "    <tr>\n",
       "      <th>2000-12-22</th>\n",
       "      <td>513.343512</td>\n",
       "      <td>NaN</td>\n",
       "    </tr>\n",
       "    <tr>\n",
       "      <th>2000-12-23</th>\n",
       "      <td>415.374073</td>\n",
       "      <td>NaN</td>\n",
       "    </tr>\n",
       "    <tr>\n",
       "      <th>2000-12-24</th>\n",
       "      <td>333.169670</td>\n",
       "      <td>333.169670</td>\n",
       "    </tr>\n",
       "    <tr>\n",
       "      <th>2000-12-25</th>\n",
       "      <td>265.959015</td>\n",
       "      <td>NaN</td>\n",
       "    </tr>\n",
       "    <tr>\n",
       "      <th>2000-12-26</th>\n",
       "      <td>208.729806</td>\n",
       "      <td>NaN</td>\n",
       "    </tr>\n",
       "    <tr>\n",
       "      <th>2000-12-27</th>\n",
       "      <td>165.182157</td>\n",
       "      <td>NaN</td>\n",
       "    </tr>\n",
       "    <tr>\n",
       "      <th>2000-12-28</th>\n",
       "      <td>137.156199</td>\n",
       "      <td>NaN</td>\n",
       "    </tr>\n",
       "    <tr>\n",
       "      <th>2000-12-29</th>\n",
       "      <td>159.990201</td>\n",
       "      <td>NaN</td>\n",
       "    </tr>\n",
       "    <tr>\n",
       "      <th>2000-12-30</th>\n",
       "      <td>205.481416</td>\n",
       "      <td>NaN</td>\n",
       "    </tr>\n",
       "    <tr>\n",
       "      <th>2000-12-31</th>\n",
       "      <td>162.710121</td>\n",
       "      <td>162.710121</td>\n",
       "    </tr>\n",
       "  </tbody>\n",
       "</table>\n",
       "<p>366 rows × 2 columns</p>\n",
       "</div>"
      ],
      "text/plain": [
       "                  Rain      weekly\n",
       "Date                              \n",
       "2000-01-01  179.514368         NaN\n",
       "2000-02-01  130.529529         NaN\n",
       "2000-03-01  235.893511         NaN\n",
       "2000-04-01  298.959012         NaN\n",
       "2000-05-01  282.654166         NaN\n",
       "2000-06-01  204.684638         NaN\n",
       "2000-07-01  161.817207         NaN\n",
       "2000-08-01  133.597649         NaN\n",
       "2000-09-01  112.913940         NaN\n",
       "2000-10-01   95.579422   95.579422\n",
       "2000-11-01  144.688923         NaN\n",
       "2000-12-01  145.499279         NaN\n",
       "2000-01-13  168.887176         NaN\n",
       "2000-01-14  132.044115         NaN\n",
       "2000-01-15   93.822746         NaN\n",
       "2000-01-16   74.009799   74.009799\n",
       "2000-01-17   61.887331         NaN\n",
       "2000-01-18   52.246854         NaN\n",
       "2000-01-19   43.770603         NaN\n",
       "2000-01-20   38.374772         NaN\n",
       "2000-01-21   35.589554         NaN\n",
       "2000-01-22   32.350098         NaN\n",
       "2000-01-23   30.094228   30.094228\n",
       "2000-01-24   29.494385         NaN\n",
       "2000-01-25   28.242607         NaN\n",
       "2000-01-26   63.846427         NaN\n",
       "2000-01-27   52.808602         NaN\n",
       "2000-01-28   38.133710         NaN\n",
       "2000-01-29   51.114249         NaN\n",
       "2000-01-30  127.353199  127.353199\n",
       "...                ...         ...\n",
       "2000-02-12   52.238804         NaN\n",
       "2000-03-12   46.616422   46.616422\n",
       "2000-04-12   84.466276         NaN\n",
       "2000-05-12   89.444039         NaN\n",
       "2000-06-12  838.754313         NaN\n",
       "2000-07-12  961.011570         NaN\n",
       "2000-08-12  606.231253         NaN\n",
       "2000-09-12  463.833317         NaN\n",
       "2000-10-12  422.110822         NaN\n",
       "2000-11-12  402.234885  402.234885\n",
       "2000-12-12  597.853864         NaN\n",
       "2000-12-13  521.805640         NaN\n",
       "2000-12-14  414.793011         NaN\n",
       "2000-12-15  391.499750         NaN\n",
       "2000-12-16  336.673980         NaN\n",
       "2000-12-17  385.513662  385.513662\n",
       "2000-12-18  613.565733         NaN\n",
       "2000-12-19  783.867652         NaN\n",
       "2000-12-20  831.863875         NaN\n",
       "2000-12-21  649.366125         NaN\n",
       "2000-12-22  513.343512         NaN\n",
       "2000-12-23  415.374073         NaN\n",
       "2000-12-24  333.169670  333.169670\n",
       "2000-12-25  265.959015         NaN\n",
       "2000-12-26  208.729806         NaN\n",
       "2000-12-27  165.182157         NaN\n",
       "2000-12-28  137.156199         NaN\n",
       "2000-12-29  159.990201         NaN\n",
       "2000-12-30  205.481416         NaN\n",
       "2000-12-31  162.710121  162.710121\n",
       "\n",
       "[366 rows x 2 columns]"
      ]
     },
     "execution_count": 8,
     "metadata": {},
     "output_type": "execute_result"
    }
   ],
   "source": [
    "rain.loc[\"2000\"]"
   ]
  },
  {
   "cell_type": "code",
   "execution_count": 49,
   "metadata": {},
   "outputs": [],
   "source": [
    "rain['filled'] = rain['weekly'].interpolate() # Easy to interpolate, but make sure the data is in order, and that the even is something relatively consistent"
   ]
  },
  {
   "cell_type": "code",
   "execution_count": 51,
   "metadata": {},
   "outputs": [],
   "source": [
    "%matplotlib inline"
   ]
  },
  {
   "cell_type": "code",
   "execution_count": 54,
   "metadata": {},
   "outputs": [
    {
     "data": {
      "text/plain": [
       "<matplotlib.axes._subplots.AxesSubplot at 0x1f83d8de3c8>"
      ]
     },
     "execution_count": 54,
     "metadata": {},
     "output_type": "execute_result"
    },
    {
     "data": {
      "image/png": "[encoded data removed]",
      "text/plain": [
       "<Figure size 432x288 with 1 Axes>"
      ]
     },
     "metadata": {
      "needs_background": "light"
     },
     "output_type": "display_data"
    }
   ],
   "source": [
    "rain.loc[\"2000-12\", [\"Rain\", \"filled\"]].plot(kind='line')"
   ]
  },
  {
   "cell_type": "code",
   "execution_count": 52,
   "metadata": {},
   "outputs": [],
   "source": [
    "ts = pd.read_hdf(\"D:/Data/AAPL.h5\")"
   ]
  },
  {
   "cell_type": "code",
   "execution_count": 55,
   "metadata": {},
   "outputs": [
    {
     "data": {
      "text/plain": [
       "DatetimeIndex(['2000-01-03', '2000-01-04', '2000-01-05', '2000-01-06',\n",
       "               '2000-01-07', '2000-01-10', '2000-01-11', '2000-01-12',\n",
       "               '2000-01-13', '2000-01-14',\n",
       "               ...\n",
       "               '2012-12-05', '2012-12-06', '2012-12-07', '2012-12-10',\n",
       "               '2012-12-11', '2012-12-12', '2012-12-13', '2012-12-14',\n",
       "               '2012-12-17', '2012-12-18'],\n",
       "              dtype='datetime64[ns]', name='Date', length=3261, freq=None)"
      ]
     },
     "execution_count": 55,
     "metadata": {},
     "output_type": "execute_result"
    }
   ],
   "source": [
    "ts.index"
   ]
  },
  {
   "cell_type": "code",
   "execution_count": 57,
   "metadata": {},
   "outputs": [
    {
     "data": {
      "text/html": [
       "<div>\n",
       "<style scoped>\n",
       "    .dataframe tbody tr th:only-of-type {\n",
       "        vertical-align: middle;\n",
       "    }\n",
       "\n",
       "    .dataframe tbody tr th {\n",
       "        vertical-align: top;\n",
       "    }\n",
       "\n",
       "    .dataframe thead th {\n",
       "        text-align: right;\n",
       "    }\n",
       "</style>\n",
       "<table border=\"1\" class=\"dataframe\">\n",
       "  <thead>\n",
       "    <tr style=\"text-align: right;\">\n",
       "      <th></th>\n",
       "      <th>Open</th>\n",
       "      <th>High</th>\n",
       "      <th>Low</th>\n",
       "      <th>Close</th>\n",
       "      <th>Volume</th>\n",
       "      <th>Adj Close</th>\n",
       "    </tr>\n",
       "  </thead>\n",
       "  <tbody>\n",
       "    <tr>\n",
       "      <th>count</th>\n",
       "      <td>3261.000000</td>\n",
       "      <td>3261.000000</td>\n",
       "      <td>3261.000000</td>\n",
       "      <td>3261.000000</td>\n",
       "      <td>3.261000e+03</td>\n",
       "      <td>3261.000000</td>\n",
       "    </tr>\n",
       "    <tr>\n",
       "      <th>mean</th>\n",
       "      <td>145.656900</td>\n",
       "      <td>147.435354</td>\n",
       "      <td>143.595624</td>\n",
       "      <td>145.569473</td>\n",
       "      <td>2.149814e+07</td>\n",
       "      <td>136.633554</td>\n",
       "    </tr>\n",
       "    <tr>\n",
       "      <th>std</th>\n",
       "      <td>160.485021</td>\n",
       "      <td>161.767461</td>\n",
       "      <td>158.765382</td>\n",
       "      <td>160.317263</td>\n",
       "      <td>1.485484e+07</td>\n",
       "      <td>163.856865</td>\n",
       "    </tr>\n",
       "    <tr>\n",
       "      <th>min</th>\n",
       "      <td>12.990000</td>\n",
       "      <td>13.190000</td>\n",
       "      <td>12.720000</td>\n",
       "      <td>13.120000</td>\n",
       "      <td>1.405000e+06</td>\n",
       "      <td>6.500000</td>\n",
       "    </tr>\n",
       "    <tr>\n",
       "      <th>25%</th>\n",
       "      <td>24.540000</td>\n",
       "      <td>25.040000</td>\n",
       "      <td>24.070000</td>\n",
       "      <td>24.670000</td>\n",
       "      <td>1.156680e+07</td>\n",
       "      <td>12.230000</td>\n",
       "    </tr>\n",
       "    <tr>\n",
       "      <th>50%</th>\n",
       "      <td>85.160000</td>\n",
       "      <td>86.380000</td>\n",
       "      <td>83.940000</td>\n",
       "      <td>85.210000</td>\n",
       "      <td>1.724560e+07</td>\n",
       "      <td>70.750000</td>\n",
       "    </tr>\n",
       "    <tr>\n",
       "      <th>75%</th>\n",
       "      <td>190.120000</td>\n",
       "      <td>192.000000</td>\n",
       "      <td>187.820000</td>\n",
       "      <td>189.950000</td>\n",
       "      <td>2.749240e+07</td>\n",
       "      <td>188.280000</td>\n",
       "    </tr>\n",
       "    <tr>\n",
       "      <th>max</th>\n",
       "      <td>702.410000</td>\n",
       "      <td>705.070000</td>\n",
       "      <td>699.570000</td>\n",
       "      <td>702.100000</td>\n",
       "      <td>2.650690e+08</td>\n",
       "      <td>698.910000</td>\n",
       "    </tr>\n",
       "  </tbody>\n",
       "</table>\n",
       "</div>"
      ],
      "text/plain": [
       "              Open         High          Low        Close        Volume  \\\n",
       "count  3261.000000  3261.000000  3261.000000  3261.000000  3.261000e+03   \n",
       "mean    145.656900   147.435354   143.595624   145.569473  2.149814e+07   \n",
       "std     160.485021   161.767461   158.765382   160.317263  1.485484e+07   \n",
       "min      12.990000    13.190000    12.720000    13.120000  1.405000e+06   \n",
       "25%      24.540000    25.040000    24.070000    24.670000  1.156680e+07   \n",
       "50%      85.160000    86.380000    83.940000    85.210000  1.724560e+07   \n",
       "75%     190.120000   192.000000   187.820000   189.950000  2.749240e+07   \n",
       "max     702.410000   705.070000   699.570000   702.100000  2.650690e+08   \n",
       "\n",
       "         Adj Close  \n",
       "count  3261.000000  \n",
       "mean    136.633554  \n",
       "std     163.856865  \n",
       "min       6.500000  \n",
       "25%      12.230000  \n",
       "50%      70.750000  \n",
       "75%     188.280000  \n",
       "max     698.910000  "
      ]
     },
     "execution_count": 57,
     "metadata": {},
     "output_type": "execute_result"
    }
   ],
   "source": [
    "ts.describe() # executive summary, gives very general stats on the columns"
   ]
  },
  {
   "cell_type": "code",
   "execution_count": 59,
   "metadata": {},
   "outputs": [
    {
     "data": {
      "text/plain": [
       "<matplotlib.axes._subplots.AxesSubplot at 0x1f83d9a6588>"
      ]
     },
     "execution_count": 59,
     "metadata": {},
     "output_type": "execute_result"
    },
    {
     "data": {
      "image/png": "[encoded data removed]",
      "text/plain": [
       "<Figure size 432x288 with 1 Axes>"
      ]
     },
     "metadata": {
      "needs_background": "light"
     },
     "output_type": "display_data"
    }
   ],
   "source": [
    "ts['Close'].plot()"
   ]
  },
  {
   "cell_type": "code",
   "execution_count": 60,
   "metadata": {},
   "outputs": [
    {
     "data": {
      "text/html": [
       "<div>\n",
       "<style scoped>\n",
       "    .dataframe tbody tr th:only-of-type {\n",
       "        vertical-align: middle;\n",
       "    }\n",
       "\n",
       "    .dataframe tbody tr th {\n",
       "        vertical-align: top;\n",
       "    }\n",
       "\n",
       "    .dataframe thead th {\n",
       "        text-align: right;\n",
       "    }\n",
       "</style>\n",
       "<table border=\"1\" class=\"dataframe\">\n",
       "  <thead>\n",
       "    <tr style=\"text-align: right;\">\n",
       "      <th></th>\n",
       "      <th>Open</th>\n",
       "      <th>High</th>\n",
       "      <th>Low</th>\n",
       "      <th>Close</th>\n",
       "      <th>Volume</th>\n",
       "      <th>Adj Close</th>\n",
       "    </tr>\n",
       "    <tr>\n",
       "      <th>Date</th>\n",
       "      <th></th>\n",
       "      <th></th>\n",
       "      <th></th>\n",
       "      <th></th>\n",
       "      <th></th>\n",
       "      <th></th>\n",
       "    </tr>\n",
       "  </thead>\n",
       "  <tbody>\n",
       "    <tr>\n",
       "      <th>2000-01-03</th>\n",
       "      <td>104.87</td>\n",
       "      <td>112.50</td>\n",
       "      <td>101.69</td>\n",
       "      <td>111.94</td>\n",
       "      <td>19144400</td>\n",
       "      <td>27.74</td>\n",
       "    </tr>\n",
       "    <tr>\n",
       "      <th>2000-01-04</th>\n",
       "      <td>108.25</td>\n",
       "      <td>110.62</td>\n",
       "      <td>101.19</td>\n",
       "      <td>102.50</td>\n",
       "      <td>18310000</td>\n",
       "      <td>25.40</td>\n",
       "    </tr>\n",
       "    <tr>\n",
       "      <th>2000-01-05</th>\n",
       "      <td>103.75</td>\n",
       "      <td>110.56</td>\n",
       "      <td>103.00</td>\n",
       "      <td>104.00</td>\n",
       "      <td>27818000</td>\n",
       "      <td>25.77</td>\n",
       "    </tr>\n",
       "    <tr>\n",
       "      <th>2000-01-06</th>\n",
       "      <td>106.12</td>\n",
       "      <td>107.00</td>\n",
       "      <td>95.00</td>\n",
       "      <td>95.00</td>\n",
       "      <td>27443200</td>\n",
       "      <td>23.54</td>\n",
       "    </tr>\n",
       "    <tr>\n",
       "      <th>2000-01-07</th>\n",
       "      <td>96.50</td>\n",
       "      <td>101.00</td>\n",
       "      <td>95.50</td>\n",
       "      <td>99.50</td>\n",
       "      <td>16463200</td>\n",
       "      <td>24.66</td>\n",
       "    </tr>\n",
       "  </tbody>\n",
       "</table>\n",
       "</div>"
      ],
      "text/plain": [
       "              Open    High     Low   Close    Volume  Adj Close\n",
       "Date                                                           \n",
       "2000-01-03  104.87  112.50  101.69  111.94  19144400      27.74\n",
       "2000-01-04  108.25  110.62  101.19  102.50  18310000      25.40\n",
       "2000-01-05  103.75  110.56  103.00  104.00  27818000      25.77\n",
       "2000-01-06  106.12  107.00   95.00   95.00  27443200      23.54\n",
       "2000-01-07   96.50  101.00   95.50   99.50  16463200      24.66"
      ]
     },
     "execution_count": 60,
     "metadata": {},
     "output_type": "execute_result"
    }
   ],
   "source": [
    "ts.head()"
   ]
  },
  {
   "cell_type": "code",
   "execution_count": 62,
   "metadata": {},
   "outputs": [
    {
     "data": {
      "text/plain": [
       "Date\n",
       "2000-12-31     4298582600\n",
       "2001-12-31     3380921000\n",
       "2002-12-31     2750497400\n",
       "2003-12-31     2543937600\n",
       "2004-12-31     4350059600\n",
       "2005-12-31     6514321000\n",
       "2006-12-31     7703477400\n",
       "2007-12-31     8820760200\n",
       "2008-12-31    10213471500\n",
       "2009-12-31     5116040000\n",
       "2010-12-31     5393747400\n",
       "2011-12-31     4430740100\n",
       "2012-12-31     4588894400\n",
       "Freq: A-DEC, Name: Volume, dtype: int64"
      ]
     },
     "execution_count": 62,
     "metadata": {},
     "output_type": "execute_result"
    }
   ],
   "source": [
    "ts.resample(\"Y\")['Volume'].sum() # total volume of each year since 2000"
   ]
  },
  {
   "cell_type": "code",
   "execution_count": 68,
   "metadata": {},
   "outputs": [
    {
     "data": {
      "text/plain": [
       "Timestamp('2008-07-22 00:00:00')"
      ]
     },
     "execution_count": 68,
     "metadata": {},
     "output_type": "execute_result"
    }
   ],
   "source": [
    "ts['Difference'] = ts['Close'] - ts['Open']\n",
    "ts.loc['2005':'2010']['Difference'].idxmax() # date with max difference between 2005 and 2010"
   ]
  },
  {
   "cell_type": "code",
   "execution_count": 98,
   "metadata": {
    "scrolled": true
   },
   "outputs": [
    {
     "data": {
      "text/plain": [
       "Date\n",
       "2002-12-31     -3.75\n",
       "2003-12-31      3.49\n",
       "2004-12-31     21.33\n",
       "2008-12-31   -111.74\n",
       "2009-12-31    124.28\n",
       "2010-12-31    110.84\n",
       "Name: Adj Close, dtype: float64"
      ]
     },
     "execution_count": 98,
     "metadata": {},
     "output_type": "execute_result"
    }
   ],
   "source": [
    "ts.asfreq(\"A\")['Adj Close'].diff().dropna()  # diff() is difference between current value and shifted value, where shift() keeps index in place, but moves data down one, pst_change() is change as percentage "
   ]
  },
  {
   "cell_type": "markdown",
   "metadata": {},
   "source": [
    "# Interactive visualisation with Altair"
   ]
  },
  {
   "cell_type": "markdown",
   "metadata": {},
   "source": [
    "matplotlib was for matlab users who wanted to move to python "
   ]
  },
  {
   "cell_type": "code",
   "execution_count": 109,
   "metadata": {},
   "outputs": [
    {
     "name": "stdout",
     "output_type": "stream",
     "text": [
      "Collecting altair\n",
      "  Downloading https://files.pythonhosted.org/packages/34/24/3e50e226a79db1bb1427bf8c58cc4dc7c2f74c39b728af005f4b11d1760c/altair-3.2.0-py2.py3-none-any.whl (596kB)\n",
      "Collecting vega\n",
      "  Downloading https://files.pythonhosted.org/packages/2b/cf/72b9200c09464ca28e38f1dec85d1773858fd641fae3a97c64d1fc495b27/vega-2.6.0-py3-none-any.whl (2.2MB)\n",
      "Requirement already satisfied: pandas in c:\\users\\d883534\\appdata\\local\\continuum\\anaconda3\\lib\\site-packages (from altair) (0.24.2)\n",
      "Requirement already satisfied: jinja2 in c:\\users\\d883534\\appdata\\local\\continuum\\anaconda3\\lib\\site-packages (from altair) (2.10.1)\n",
      "Requirement already satisfied: six in c:\\users\\d883534\\appdata\\roaming\\python\\python37\\site-packages (from altair) (1.12.0)\n",
      "Requirement already satisfied: entrypoints in c:\\users\\d883534\\appdata\\local\\continuum\\anaconda3\\lib\\site-packages (from altair) (0.3)\n",
      "Requirement already satisfied: toolz in c:\\users\\d883534\\appdata\\local\\continuum\\anaconda3\\lib\\site-packages (from altair) (0.10.0)\n",
      "Requirement already satisfied: jsonschema in c:\\users\\d883534\\appdata\\local\\continuum\\anaconda3\\lib\\site-packages (from altair) (3.0.1)\n",
      "Requirement already satisfied: numpy in c:\\users\\d883534\\appdata\\local\\continuum\\anaconda3\\lib\\site-packages (from altair) (1.16.4)\n",
      "Requirement already satisfied: pytz>=2011k in c:\\users\\d883534\\appdata\\local\\continuum\\anaconda3\\lib\\site-packages (from pandas->altair) (2019.1)\n",
      "Requirement already satisfied: python-dateutil>=2.5.0 in c:\\users\\d883534\\appdata\\local\\continuum\\anaconda3\\lib\\site-packages (from pandas->altair) (2.8.0)\n",
      "Requirement already satisfied: MarkupSafe>=0.23 in c:\\users\\d883534\\appdata\\local\\continuum\\anaconda3\\lib\\site-packages (from jinja2->altair) (1.1.1)\n",
      "Requirement already satisfied: attrs>=17.4.0 in c:\\users\\d883534\\appdata\\local\\continuum\\anaconda3\\lib\\site-packages (from jsonschema->altair) (19.1.0)\n",
      "Requirement already satisfied: pyrsistent>=0.14.0 in c:\\users\\d883534\\appdata\\local\\continuum\\anaconda3\\lib\\site-packages (from jsonschema->altair) (0.14.11)\n",
      "Requirement already satisfied: setuptools in c:\\users\\d883534\\appdata\\local\\continuum\\anaconda3\\lib\\site-packages (from jsonschema->altair) (41.0.1)\n",
      "Installing collected packages: altair, vega\n",
      "Successfully installed altair-3.2.0 vega-2.6.0\n"
     ]
    }
   ],
   "source": [
    "!pip install altair vega"
   ]
  },
  {
   "cell_type": "code",
   "execution_count": 110,
   "metadata": {},
   "outputs": [
    {
     "name": "stdout",
     "output_type": "stream",
     "text": [
      "Requirement already satisfied: altair in c:\\users\\d883534\\appdata\\local\\continuum\\anaconda3\\lib\\site-packages (3.2.0)\n",
      "Requirement already satisfied: vega in c:\\users\\d883534\\appdata\\local\\continuum\\anaconda3\\lib\\site-packages (2.6.0)\n",
      "Requirement already satisfied: toolz in c:\\users\\d883534\\appdata\\local\\continuum\\anaconda3\\lib\\site-packages (from altair) (0.10.0)\n",
      "Requirement already satisfied: pandas in c:\\users\\d883534\\appdata\\local\\continuum\\anaconda3\\lib\\site-packages (from altair) (0.24.2)\n",
      "Requirement already satisfied: six in c:\\users\\d883534\\appdata\\roaming\\python\\python37\\site-packages (from altair) (1.12.0)\n",
      "Requirement already satisfied: numpy in c:\\users\\d883534\\appdata\\local\\continuum\\anaconda3\\lib\\site-packages (from altair) (1.16.4)\n",
      "Requirement already satisfied: jsonschema in c:\\users\\d883534\\appdata\\local\\continuum\\anaconda3\\lib\\site-packages (from altair) (3.0.1)\n",
      "Requirement already satisfied: entrypoints in c:\\users\\d883534\\appdata\\local\\continuum\\anaconda3\\lib\\site-packages (from altair) (0.3)\n",
      "Requirement already satisfied: jinja2 in c:\\users\\d883534\\appdata\\local\\continuum\\anaconda3\\lib\\site-packages (from altair) (2.10.1)\n",
      "Requirement already satisfied: python-dateutil>=2.5.0 in c:\\users\\d883534\\appdata\\local\\continuum\\anaconda3\\lib\\site-packages (from pandas->altair) (2.8.0)\n",
      "Requirement already satisfied: pytz>=2011k in c:\\users\\d883534\\appdata\\local\\continuum\\anaconda3\\lib\\site-packages (from pandas->altair) (2019.1)\n",
      "Requirement already satisfied: attrs>=17.4.0 in c:\\users\\d883534\\appdata\\local\\continuum\\anaconda3\\lib\\site-packages (from jsonschema->altair) (19.1.0)\n",
      "Requirement already satisfied: pyrsistent>=0.14.0 in c:\\users\\d883534\\appdata\\local\\continuum\\anaconda3\\lib\\site-packages (from jsonschema->altair) (0.14.11)\n",
      "Requirement already satisfied: setuptools in c:\\users\\d883534\\appdata\\local\\continuum\\anaconda3\\lib\\site-packages (from jsonschema->altair) (41.0.1)\n",
      "Requirement already satisfied: MarkupSafe>=0.23 in c:\\users\\d883534\\appdata\\local\\continuum\\anaconda3\\lib\\site-packages (from jinja2->altair) (1.1.1)\n"
     ]
    }
   ],
   "source": [
    "!pip install --proxy=http://top-proxy01.core.mco.pr.top.sda.corp.telstra.com:3128 altair vega\n",
    "    "
   ]
  },
  {
   "cell_type": "code",
   "execution_count": 123,
   "metadata": {},
   "outputs": [
    {
     "data": {
      "text/html": [
       "<div>\n",
       "<style scoped>\n",
       "    .dataframe tbody tr th:only-of-type {\n",
       "        vertical-align: middle;\n",
       "    }\n",
       "\n",
       "    .dataframe tbody tr th {\n",
       "        vertical-align: top;\n",
       "    }\n",
       "\n",
       "    .dataframe thead th {\n",
       "        text-align: right;\n",
       "    }\n",
       "</style>\n",
       "<table border=\"1\" class=\"dataframe\">\n",
       "  <thead>\n",
       "    <tr style=\"text-align: right;\">\n",
       "      <th></th>\n",
       "      <th>Country Code</th>\n",
       "      <th>Indicator Name</th>\n",
       "      <th>Indicator Code</th>\n",
       "      <th>1960</th>\n",
       "      <th>1961</th>\n",
       "      <th>1962</th>\n",
       "      <th>1963</th>\n",
       "      <th>1964</th>\n",
       "      <th>1965</th>\n",
       "      <th>1966</th>\n",
       "      <th>...</th>\n",
       "      <th>2008</th>\n",
       "      <th>2009</th>\n",
       "      <th>2010</th>\n",
       "      <th>2011</th>\n",
       "      <th>2012</th>\n",
       "      <th>2013</th>\n",
       "      <th>2014</th>\n",
       "      <th>2015</th>\n",
       "      <th>2016</th>\n",
       "      <th>2017</th>\n",
       "    </tr>\n",
       "    <tr>\n",
       "      <th>Country Name</th>\n",
       "      <th></th>\n",
       "      <th></th>\n",
       "      <th></th>\n",
       "      <th></th>\n",
       "      <th></th>\n",
       "      <th></th>\n",
       "      <th></th>\n",
       "      <th></th>\n",
       "      <th></th>\n",
       "      <th></th>\n",
       "      <th></th>\n",
       "      <th></th>\n",
       "      <th></th>\n",
       "      <th></th>\n",
       "      <th></th>\n",
       "      <th></th>\n",
       "      <th></th>\n",
       "      <th></th>\n",
       "      <th></th>\n",
       "      <th></th>\n",
       "      <th></th>\n",
       "    </tr>\n",
       "  </thead>\n",
       "  <tbody>\n",
       "    <tr>\n",
       "      <th>Aruba</th>\n",
       "      <td>ABW</td>\n",
       "      <td>Population, total</td>\n",
       "      <td>SP.POP.TOTL</td>\n",
       "      <td>54211.0</td>\n",
       "      <td>55438.0</td>\n",
       "      <td>56225.0</td>\n",
       "      <td>56695.0</td>\n",
       "      <td>57032.0</td>\n",
       "      <td>57360.0</td>\n",
       "      <td>57715.0</td>\n",
       "      <td>...</td>\n",
       "      <td>101353.0</td>\n",
       "      <td>101453.0</td>\n",
       "      <td>101669.0</td>\n",
       "      <td>102053.0</td>\n",
       "      <td>102577.0</td>\n",
       "      <td>103187.0</td>\n",
       "      <td>103795.0</td>\n",
       "      <td>104341.0</td>\n",
       "      <td>104822.0</td>\n",
       "      <td>105264.0</td>\n",
       "    </tr>\n",
       "    <tr>\n",
       "      <th>Afghanistan</th>\n",
       "      <td>AFG</td>\n",
       "      <td>Population, total</td>\n",
       "      <td>SP.POP.TOTL</td>\n",
       "      <td>8996351.0</td>\n",
       "      <td>9166764.0</td>\n",
       "      <td>9345868.0</td>\n",
       "      <td>9533954.0</td>\n",
       "      <td>9731361.0</td>\n",
       "      <td>9938414.0</td>\n",
       "      <td>10152331.0</td>\n",
       "      <td>...</td>\n",
       "      <td>27294031.0</td>\n",
       "      <td>28004331.0</td>\n",
       "      <td>28803167.0</td>\n",
       "      <td>29708599.0</td>\n",
       "      <td>30696958.0</td>\n",
       "      <td>31731688.0</td>\n",
       "      <td>32758020.0</td>\n",
       "      <td>33736494.0</td>\n",
       "      <td>34656032.0</td>\n",
       "      <td>35530081.0</td>\n",
       "    </tr>\n",
       "    <tr>\n",
       "      <th>Angola</th>\n",
       "      <td>AGO</td>\n",
       "      <td>Population, total</td>\n",
       "      <td>SP.POP.TOTL</td>\n",
       "      <td>5643182.0</td>\n",
       "      <td>5753024.0</td>\n",
       "      <td>5866061.0</td>\n",
       "      <td>5980417.0</td>\n",
       "      <td>6093321.0</td>\n",
       "      <td>6203299.0</td>\n",
       "      <td>6309770.0</td>\n",
       "      <td>...</td>\n",
       "      <td>21759420.0</td>\n",
       "      <td>22549547.0</td>\n",
       "      <td>23369131.0</td>\n",
       "      <td>24218565.0</td>\n",
       "      <td>25096150.0</td>\n",
       "      <td>25998340.0</td>\n",
       "      <td>26920466.0</td>\n",
       "      <td>27859305.0</td>\n",
       "      <td>28813463.0</td>\n",
       "      <td>29784193.0</td>\n",
       "    </tr>\n",
       "    <tr>\n",
       "      <th>Albania</th>\n",
       "      <td>ALB</td>\n",
       "      <td>Population, total</td>\n",
       "      <td>SP.POP.TOTL</td>\n",
       "      <td>1608800.0</td>\n",
       "      <td>1659800.0</td>\n",
       "      <td>1711319.0</td>\n",
       "      <td>1762621.0</td>\n",
       "      <td>1814135.0</td>\n",
       "      <td>1864791.0</td>\n",
       "      <td>1914573.0</td>\n",
       "      <td>...</td>\n",
       "      <td>2947314.0</td>\n",
       "      <td>2927519.0</td>\n",
       "      <td>2913021.0</td>\n",
       "      <td>2905195.0</td>\n",
       "      <td>2900401.0</td>\n",
       "      <td>2895092.0</td>\n",
       "      <td>2889104.0</td>\n",
       "      <td>2880703.0</td>\n",
       "      <td>2876101.0</td>\n",
       "      <td>2873457.0</td>\n",
       "    </tr>\n",
       "    <tr>\n",
       "      <th>Andorra</th>\n",
       "      <td>AND</td>\n",
       "      <td>Population, total</td>\n",
       "      <td>SP.POP.TOTL</td>\n",
       "      <td>13411.0</td>\n",
       "      <td>14375.0</td>\n",
       "      <td>15370.0</td>\n",
       "      <td>16412.0</td>\n",
       "      <td>17469.0</td>\n",
       "      <td>18549.0</td>\n",
       "      <td>19647.0</td>\n",
       "      <td>...</td>\n",
       "      <td>83861.0</td>\n",
       "      <td>84462.0</td>\n",
       "      <td>84449.0</td>\n",
       "      <td>83751.0</td>\n",
       "      <td>82431.0</td>\n",
       "      <td>80788.0</td>\n",
       "      <td>79223.0</td>\n",
       "      <td>78014.0</td>\n",
       "      <td>77281.0</td>\n",
       "      <td>76965.0</td>\n",
       "    </tr>\n",
       "  </tbody>\n",
       "</table>\n",
       "<p>5 rows × 61 columns</p>\n",
       "</div>"
      ],
      "text/plain": [
       "             Country Code     Indicator Name Indicator Code       1960  \\\n",
       "Country Name                                                             \n",
       "Aruba                 ABW  Population, total    SP.POP.TOTL    54211.0   \n",
       "Afghanistan           AFG  Population, total    SP.POP.TOTL  8996351.0   \n",
       "Angola                AGO  Population, total    SP.POP.TOTL  5643182.0   \n",
       "Albania               ALB  Population, total    SP.POP.TOTL  1608800.0   \n",
       "Andorra               AND  Population, total    SP.POP.TOTL    13411.0   \n",
       "\n",
       "                   1961       1962       1963       1964       1965  \\\n",
       "Country Name                                                          \n",
       "Aruba           55438.0    56225.0    56695.0    57032.0    57360.0   \n",
       "Afghanistan   9166764.0  9345868.0  9533954.0  9731361.0  9938414.0   \n",
       "Angola        5753024.0  5866061.0  5980417.0  6093321.0  6203299.0   \n",
       "Albania       1659800.0  1711319.0  1762621.0  1814135.0  1864791.0   \n",
       "Andorra         14375.0    15370.0    16412.0    17469.0    18549.0   \n",
       "\n",
       "                    1966  ...        2008        2009        2010        2011  \\\n",
       "Country Name              ...                                                   \n",
       "Aruba            57715.0  ...    101353.0    101453.0    101669.0    102053.0   \n",
       "Afghanistan   10152331.0  ...  27294031.0  28004331.0  28803167.0  29708599.0   \n",
       "Angola         6309770.0  ...  21759420.0  22549547.0  23369131.0  24218565.0   \n",
       "Albania        1914573.0  ...   2947314.0   2927519.0   2913021.0   2905195.0   \n",
       "Andorra          19647.0  ...     83861.0     84462.0     84449.0     83751.0   \n",
       "\n",
       "                    2012        2013        2014        2015        2016  \\\n",
       "Country Name                                                               \n",
       "Aruba           102577.0    103187.0    103795.0    104341.0    104822.0   \n",
       "Afghanistan   30696958.0  31731688.0  32758020.0  33736494.0  34656032.0   \n",
       "Angola        25096150.0  25998340.0  26920466.0  27859305.0  28813463.0   \n",
       "Albania        2900401.0   2895092.0   2889104.0   2880703.0   2876101.0   \n",
       "Andorra          82431.0     80788.0     79223.0     78014.0     77281.0   \n",
       "\n",
       "                    2017  \n",
       "Country Name              \n",
       "Aruba           105264.0  \n",
       "Afghanistan   35530081.0  \n",
       "Angola        29784193.0  \n",
       "Albania        2873457.0  \n",
       "Andorra          76965.0  \n",
       "\n",
       "[5 rows x 61 columns]"
      ]
     },
     "execution_count": 123,
     "metadata": {},
     "output_type": "execute_result"
    }
   ],
   "source": [
    "populations = pd.read_csv(\"D:/Data/country_populations_by_year.csv\", index_col=\"Country Name\")\n",
    "populations.head()"
   ]
  },
  {
   "cell_type": "code",
   "execution_count": 124,
   "metadata": {},
   "outputs": [],
   "source": [
    "countries_of_interest = [\"Australia\", \"New Zealand\", \"Netherlands\", \"Greece\"]\n",
    "country_populations = populations.loc[countries_of_interest, '1960':'2017']"
   ]
  },
  {
   "cell_type": "code",
   "execution_count": 125,
   "metadata": {},
   "outputs": [
    {
     "data": {
      "text/html": [
       "<div>\n",
       "<style scoped>\n",
       "    .dataframe tbody tr th:only-of-type {\n",
       "        vertical-align: middle;\n",
       "    }\n",
       "\n",
       "    .dataframe tbody tr th {\n",
       "        vertical-align: top;\n",
       "    }\n",
       "\n",
       "    .dataframe thead th {\n",
       "        text-align: right;\n",
       "    }\n",
       "</style>\n",
       "<table border=\"1\" class=\"dataframe\">\n",
       "  <thead>\n",
       "    <tr style=\"text-align: right;\">\n",
       "      <th></th>\n",
       "      <th>Country Name</th>\n",
       "      <th>variable</th>\n",
       "      <th>value</th>\n",
       "    </tr>\n",
       "  </thead>\n",
       "  <tbody>\n",
       "    <tr>\n",
       "      <th>0</th>\n",
       "      <td>Australia</td>\n",
       "      <td>1960</td>\n",
       "      <td>10276477.0</td>\n",
       "    </tr>\n",
       "    <tr>\n",
       "      <th>1</th>\n",
       "      <td>New Zealand</td>\n",
       "      <td>1960</td>\n",
       "      <td>2371800.0</td>\n",
       "    </tr>\n",
       "    <tr>\n",
       "      <th>2</th>\n",
       "      <td>Netherlands</td>\n",
       "      <td>1960</td>\n",
       "      <td>11486631.0</td>\n",
       "    </tr>\n",
       "    <tr>\n",
       "      <th>3</th>\n",
       "      <td>Greece</td>\n",
       "      <td>1960</td>\n",
       "      <td>8331725.0</td>\n",
       "    </tr>\n",
       "    <tr>\n",
       "      <th>4</th>\n",
       "      <td>Australia</td>\n",
       "      <td>1961</td>\n",
       "      <td>10483000.0</td>\n",
       "    </tr>\n",
       "  </tbody>\n",
       "</table>\n",
       "</div>"
      ],
      "text/plain": [
       "  Country Name variable       value\n",
       "0    Australia     1960  10276477.0\n",
       "1  New Zealand     1960   2371800.0\n",
       "2  Netherlands     1960  11486631.0\n",
       "3       Greece     1960   8331725.0\n",
       "4    Australia     1961  10483000.0"
      ]
     },
     "execution_count": 125,
     "metadata": {},
     "output_type": "execute_result"
    }
   ],
   "source": [
    "pop = country_populations.reset_index().melt(id_vars=\"Country Name\")\n",
    "pop.head()"
   ]
  },
  {
   "cell_type": "code",
   "execution_count": 126,
   "metadata": {},
   "outputs": [],
   "source": [
    "pop.rename(columns={\"variable\": \"Year\", \"value\":\"Population\"}, inplace=True)"
   ]
  },
  {
   "cell_type": "code",
   "execution_count": 127,
   "metadata": {},
   "outputs": [
    {
     "data": {
      "text/html": [
       "<div>\n",
       "<style scoped>\n",
       "    .dataframe tbody tr th:only-of-type {\n",
       "        vertical-align: middle;\n",
       "    }\n",
       "\n",
       "    .dataframe tbody tr th {\n",
       "        vertical-align: top;\n",
       "    }\n",
       "\n",
       "    .dataframe thead th {\n",
       "        text-align: right;\n",
       "    }\n",
       "</style>\n",
       "<table border=\"1\" class=\"dataframe\">\n",
       "  <thead>\n",
       "    <tr style=\"text-align: right;\">\n",
       "      <th></th>\n",
       "      <th>Country Name</th>\n",
       "      <th>Year</th>\n",
       "      <th>Population</th>\n",
       "    </tr>\n",
       "  </thead>\n",
       "  <tbody>\n",
       "    <tr>\n",
       "      <th>0</th>\n",
       "      <td>Australia</td>\n",
       "      <td>1960</td>\n",
       "      <td>10276477.0</td>\n",
       "    </tr>\n",
       "    <tr>\n",
       "      <th>1</th>\n",
       "      <td>New Zealand</td>\n",
       "      <td>1960</td>\n",
       "      <td>2371800.0</td>\n",
       "    </tr>\n",
       "    <tr>\n",
       "      <th>2</th>\n",
       "      <td>Netherlands</td>\n",
       "      <td>1960</td>\n",
       "      <td>11486631.0</td>\n",
       "    </tr>\n",
       "    <tr>\n",
       "      <th>3</th>\n",
       "      <td>Greece</td>\n",
       "      <td>1960</td>\n",
       "      <td>8331725.0</td>\n",
       "    </tr>\n",
       "    <tr>\n",
       "      <th>4</th>\n",
       "      <td>Australia</td>\n",
       "      <td>1961</td>\n",
       "      <td>10483000.0</td>\n",
       "    </tr>\n",
       "  </tbody>\n",
       "</table>\n",
       "</div>"
      ],
      "text/plain": [
       "  Country Name  Year  Population\n",
       "0    Australia  1960  10276477.0\n",
       "1  New Zealand  1960   2371800.0\n",
       "2  Netherlands  1960  11486631.0\n",
       "3       Greece  1960   8331725.0\n",
       "4    Australia  1961  10483000.0"
      ]
     },
     "execution_count": 127,
     "metadata": {},
     "output_type": "execute_result"
    }
   ],
   "source": [
    "pop.head()"
   ]
  },
  {
   "cell_type": "code",
   "execution_count": 128,
   "metadata": {},
   "outputs": [],
   "source": [
    "import altair as alt"
   ]
  },
  {
   "cell_type": "code",
   "execution_count": 129,
   "metadata": {},
   "outputs": [
    {
     "data": {
      "text/plain": [
       "RendererRegistry.enable('notebook')"
      ]
     },
     "execution_count": 129,
     "metadata": {},
     "output_type": "execute_result"
    }
   ],
   "source": [
    "alt.renderers.enable('notebook')"
   ]
  },
  {
   "cell_type": "code",
   "execution_count": 130,
   "metadata": {},
   "outputs": [],
   "source": [
    "chart = alt.Chart(pop)"
   ]
  },
  {
   "cell_type": "code",
   "execution_count": 131,
   "metadata": {},
   "outputs": [
    {
     "data": {
      "application/javascript": [
       "const spec = {\"config\": {\"view\": {\"width\": 400, \"height\": 300}, \"mark\": {\"tooltip\": null}}, \"data\": {\"name\": \"data-9341af2f264f56ef9b478aac9ff3e147\"}, \"mark\": \"point\", \"$schema\": \"https://vega.github.io/schema/vega-lite/v3.4.0.json\", \"datasets\": {\"data-9341af2f264f56ef9b478aac9ff3e147\": [{\"Country Name\": \"Australia\", \"Year\": \"1960\", \"Population\": 10276477.0}, {\"Country Name\": \"New Zealand\", \"Year\": \"1960\", \"Population\": 2371800.0}, {\"Country Name\": \"Netherlands\", \"Year\": \"1960\", \"Population\": 11486631.0}, {\"Country Name\": \"Greece\", \"Year\": \"1960\", \"Population\": 8331725.0}, {\"Country Name\": \"Australia\", \"Year\": \"1961\", \"Population\": 10483000.0}, {\"Country Name\": \"New Zealand\", \"Year\": \"1961\", \"Population\": 2419700.0}, {\"Country Name\": \"Netherlands\", \"Year\": \"1961\", \"Population\": 11638712.0}, {\"Country Name\": \"Greece\", \"Year\": \"1961\", \"Population\": 8398050.0}, {\"Country Name\": \"Australia\", \"Year\": \"1962\", \"Population\": 10742000.0}, {\"Country Name\": \"New Zealand\", \"Year\": \"1962\", \"Population\": 2482000.0}, {\"Country Name\": \"Netherlands\", \"Year\": \"1962\", \"Population\": 11805689.0}, {\"Country Name\": \"Greece\", \"Year\": \"1962\", \"Population\": 8448233.0}, {\"Country Name\": \"Australia\", \"Year\": \"1963\", \"Population\": 10950000.0}, {\"Country Name\": \"New Zealand\", \"Year\": \"1963\", \"Population\": 2531800.0}, {\"Country Name\": \"Netherlands\", \"Year\": \"1963\", \"Population\": 11965966.0}, {\"Country Name\": \"Greece\", \"Year\": \"1963\", \"Population\": 8479625.0}, {\"Country Name\": \"Australia\", \"Year\": \"1964\", \"Population\": 11167000.0}, {\"Country Name\": \"New Zealand\", \"Year\": \"1964\", \"Population\": 2585400.0}, {\"Country Name\": \"Netherlands\", \"Year\": \"1964\", \"Population\": 12127120.0}, {\"Country Name\": \"Greece\", \"Year\": \"1964\", \"Population\": 8510429.0}, {\"Country Name\": \"Australia\", \"Year\": \"1965\", \"Population\": 11388000.0}, {\"Country Name\": \"New Zealand\", \"Year\": \"1965\", \"Population\": 2628400.0}, {\"Country Name\": \"Netherlands\", \"Year\": \"1965\", \"Population\": 12294732.0}, {\"Country Name\": \"Greece\", \"Year\": \"1965\", \"Population\": 8550333.0}, {\"Country Name\": \"Australia\", \"Year\": \"1966\", \"Population\": 11651000.0}, {\"Country Name\": \"New Zealand\", \"Year\": \"1966\", \"Population\": 2675900.0}, {\"Country Name\": \"Netherlands\", \"Year\": \"1966\", \"Population\": 12456251.0}, {\"Country Name\": \"Greece\", \"Year\": \"1966\", \"Population\": 8613651.0}, {\"Country Name\": \"Australia\", \"Year\": \"1967\", \"Population\": 11799000.0}, {\"Country Name\": \"New Zealand\", \"Year\": \"1967\", \"Population\": 2724100.0}, {\"Country Name\": \"Netherlands\", \"Year\": \"1967\", \"Population\": 12598201.0}, {\"Country Name\": \"Greece\", \"Year\": \"1967\", \"Population\": 8684088.0}, {\"Country Name\": \"Australia\", \"Year\": \"1968\", \"Population\": 12009000.0}, {\"Country Name\": \"New Zealand\", \"Year\": \"1968\", \"Population\": 2748100.0}, {\"Country Name\": \"Netherlands\", \"Year\": \"1968\", \"Population\": 12729721.0}, {\"Country Name\": \"Greece\", \"Year\": \"1968\", \"Population\": 8740765.0}, {\"Country Name\": \"Australia\", \"Year\": \"1969\", \"Population\": 12263000.0}, {\"Country Name\": \"New Zealand\", \"Year\": \"1969\", \"Population\": 2772800.0}, {\"Country Name\": \"Netherlands\", \"Year\": \"1969\", \"Population\": 12877984.0}, {\"Country Name\": \"Greece\", \"Year\": \"1969\", \"Population\": 8772764.0}, {\"Country Name\": \"Australia\", \"Year\": \"1970\", \"Population\": 12507000.0}, {\"Country Name\": \"New Zealand\", \"Year\": \"1970\", \"Population\": 2810700.0}, {\"Country Name\": \"Netherlands\", \"Year\": \"1970\", \"Population\": 13038526.0}, {\"Country Name\": \"Greece\", \"Year\": \"1970\", \"Population\": 8792806.0}, {\"Country Name\": \"Australia\", \"Year\": \"1971\", \"Population\": 12937000.0}, {\"Country Name\": \"New Zealand\", \"Year\": \"1971\", \"Population\": 2853000.0}, {\"Country Name\": \"Netherlands\", \"Year\": \"1971\", \"Population\": 13194497.0}, {\"Country Name\": \"Greece\", \"Year\": \"1971\", \"Population\": 8831036.0}, {\"Country Name\": \"Australia\", \"Year\": \"1972\", \"Population\": 13177000.0}, {\"Country Name\": \"New Zealand\", \"Year\": \"1972\", \"Population\": 2903900.0}, {\"Country Name\": \"Netherlands\", \"Year\": \"1972\", \"Population\": 13328593.0}, {\"Country Name\": \"Greece\", \"Year\": \"1972\", \"Population\": 8888628.0}, {\"Country Name\": \"Australia\", \"Year\": \"1973\", \"Population\": 13380000.0}, {\"Country Name\": \"New Zealand\", \"Year\": \"1973\", \"Population\": 2961300.0}, {\"Country Name\": \"Netherlands\", \"Year\": \"1973\", \"Population\": 13439322.0}, {\"Country Name\": \"Greece\", \"Year\": \"1973\", \"Population\": 8929086.0}, {\"Country Name\": \"Australia\", \"Year\": \"1974\", \"Population\": 13723000.0}, {\"Country Name\": \"New Zealand\", \"Year\": \"1974\", \"Population\": 3023700.0}, {\"Country Name\": \"Netherlands\", \"Year\": \"1974\", \"Population\": 13545056.0}, {\"Country Name\": \"Greece\", \"Year\": \"1974\", \"Population\": 8962022.0}, {\"Country Name\": \"Australia\", \"Year\": \"1975\", \"Population\": 13893000.0}, {\"Country Name\": \"New Zealand\", \"Year\": \"1975\", \"Population\": 3083100.0}, {\"Country Name\": \"Netherlands\", \"Year\": \"1975\", \"Population\": 13666335.0}, {\"Country Name\": \"Greece\", \"Year\": \"1975\", \"Population\": 9046541.0}, {\"Country Name\": \"Australia\", \"Year\": \"1976\", \"Population\": 14033000.0}, {\"Country Name\": \"New Zealand\", \"Year\": \"1976\", \"Population\": 3110500.0}, {\"Country Name\": \"Netherlands\", \"Year\": \"1976\", \"Population\": 13774037.0}, {\"Country Name\": \"Greece\", \"Year\": \"1976\", \"Population\": 9188150.0}, {\"Country Name\": \"Australia\", \"Year\": \"1977\", \"Population\": 14192000.0}, {\"Country Name\": \"New Zealand\", \"Year\": \"1977\", \"Population\": 3120200.0}, {\"Country Name\": \"Netherlands\", \"Year\": \"1977\", \"Population\": 13856185.0}, {\"Country Name\": \"Greece\", \"Year\": \"1977\", \"Population\": 9308479.0}, {\"Country Name\": \"Australia\", \"Year\": \"1978\", \"Population\": 14358000.0}, {\"Country Name\": \"New Zealand\", \"Year\": \"1978\", \"Population\": 3121200.0}, {\"Country Name\": \"Netherlands\", \"Year\": \"1978\", \"Population\": 13941700.0}, {\"Country Name\": \"Greece\", \"Year\": \"1978\", \"Population\": 9429959.0}, {\"Country Name\": \"Australia\", \"Year\": \"1979\", \"Population\": 14514000.0}, {\"Country Name\": \"New Zealand\", \"Year\": \"1979\", \"Population\": 3109000.0}, {\"Country Name\": \"Netherlands\", \"Year\": \"1979\", \"Population\": 14038270.0}, {\"Country Name\": \"Greece\", \"Year\": \"1979\", \"Population\": 9548258.0}, {\"Country Name\": \"Australia\", \"Year\": \"1980\", \"Population\": 14692000.0}, {\"Country Name\": \"New Zealand\", \"Year\": \"1980\", \"Population\": 3112900.0}, {\"Country Name\": \"Netherlands\", \"Year\": \"1980\", \"Population\": 14149800.0}, {\"Country Name\": \"Greece\", \"Year\": \"1980\", \"Population\": 9642505.0}, {\"Country Name\": \"Australia\", \"Year\": \"1981\", \"Population\": 14927000.0}, {\"Country Name\": \"New Zealand\", \"Year\": \"1981\", \"Population\": 3124900.0}, {\"Country Name\": \"Netherlands\", \"Year\": \"1981\", \"Population\": 14247208.0}, {\"Country Name\": \"Greece\", \"Year\": \"1981\", \"Population\": 9729350.0}, {\"Country Name\": \"Australia\", \"Year\": \"1982\", \"Population\": 15178000.0}, {\"Country Name\": \"New Zealand\", \"Year\": \"1982\", \"Population\": 3156100.0}, {\"Country Name\": \"Netherlands\", \"Year\": \"1982\", \"Population\": 14312690.0}, {\"Country Name\": \"Greece\", \"Year\": \"1982\", \"Population\": 9789513.0}, {\"Country Name\": \"Australia\", \"Year\": \"1983\", \"Population\": 15369000.0}, {\"Country Name\": \"New Zealand\", \"Year\": \"1983\", \"Population\": 3199300.0}, {\"Country Name\": \"Netherlands\", \"Year\": \"1983\", \"Population\": 14367070.0}, {\"Country Name\": \"Greece\", \"Year\": \"1983\", \"Population\": 9846627.0}, {\"Country Name\": \"Australia\", \"Year\": \"1984\", \"Population\": 15544000.0}, {\"Country Name\": \"New Zealand\", \"Year\": \"1984\", \"Population\": 3227100.0}, {\"Country Name\": \"Netherlands\", \"Year\": \"1984\", \"Population\": 14424211.0}, {\"Country Name\": \"Greece\", \"Year\": \"1984\", \"Population\": 9895801.0}, {\"Country Name\": \"Australia\", \"Year\": \"1985\", \"Population\": 15758000.0}, {\"Country Name\": \"New Zealand\", \"Year\": \"1985\", \"Population\": 3247100.0}, {\"Country Name\": \"Netherlands\", \"Year\": \"1985\", \"Population\": 14491632.0}, {\"Country Name\": \"Greece\", \"Year\": \"1985\", \"Population\": 9934300.0}, {\"Country Name\": \"Australia\", \"Year\": \"1986\", \"Population\": 16018400.0}, {\"Country Name\": \"New Zealand\", \"Year\": \"1986\", \"Population\": 3246300.0}, {\"Country Name\": \"Netherlands\", \"Year\": \"1986\", \"Population\": 14572278.0}, {\"Country Name\": \"Greece\", \"Year\": \"1986\", \"Population\": 9967213.0}, {\"Country Name\": \"Australia\", \"Year\": \"1987\", \"Population\": 16263900.0}, {\"Country Name\": \"New Zealand\", \"Year\": \"1987\", \"Population\": 3274400.0}, {\"Country Name\": \"Netherlands\", \"Year\": \"1987\", \"Population\": 14665037.0}, {\"Country Name\": \"Greece\", \"Year\": \"1987\", \"Population\": 10000595.0}, {\"Country Name\": \"Australia\", \"Year\": \"1988\", \"Population\": 16532200.0}, {\"Country Name\": \"New Zealand\", \"Year\": \"1988\", \"Population\": 3283400.0}, {\"Country Name\": \"Netherlands\", \"Year\": \"1988\", \"Population\": 14760094.0}, {\"Country Name\": \"Greece\", \"Year\": \"1988\", \"Population\": 10036983.0}, {\"Country Name\": \"Australia\", \"Year\": \"1989\", \"Population\": 16814400.0}, {\"Country Name\": \"New Zealand\", \"Year\": \"1989\", \"Population\": 3299200.0}, {\"Country Name\": \"Netherlands\", \"Year\": \"1989\", \"Population\": 14848907.0}, {\"Country Name\": \"Greece\", \"Year\": \"1989\", \"Population\": 10089498.0}, {\"Country Name\": \"Australia\", \"Year\": \"1990\", \"Population\": 17065100.0}, {\"Country Name\": \"New Zealand\", \"Year\": \"1990\", \"Population\": 3329800.0}, {\"Country Name\": \"Netherlands\", \"Year\": \"1990\", \"Population\": 14951510.0}, {\"Country Name\": \"Greece\", \"Year\": \"1990\", \"Population\": 10196792.0}, {\"Country Name\": \"Australia\", \"Year\": \"1991\", \"Population\": 17284000.0}, {\"Country Name\": \"New Zealand\", \"Year\": \"1991\", \"Population\": 3495100.0}, {\"Country Name\": \"Netherlands\", \"Year\": \"1991\", \"Population\": 15069798.0}, {\"Country Name\": \"Greece\", \"Year\": \"1991\", \"Population\": 10319927.0}, {\"Country Name\": \"Australia\", \"Year\": \"1992\", \"Population\": 17495000.0}, {\"Country Name\": \"New Zealand\", \"Year\": \"1992\", \"Population\": 3531700.0}, {\"Country Name\": \"Netherlands\", \"Year\": \"1992\", \"Population\": 15184166.0}, {\"Country Name\": \"Greece\", \"Year\": \"1992\", \"Population\": 10399061.0}, {\"Country Name\": \"Australia\", \"Year\": \"1993\", \"Population\": 17667000.0}, {\"Country Name\": \"New Zealand\", \"Year\": \"1993\", \"Population\": 3572200.0}, {\"Country Name\": \"Netherlands\", \"Year\": \"1993\", \"Population\": 15290368.0}, {\"Country Name\": \"Greece\", \"Year\": \"1993\", \"Population\": 10460415.0}, {\"Country Name\": \"Australia\", \"Year\": \"1994\", \"Population\": 17855000.0}, {\"Country Name\": \"New Zealand\", \"Year\": \"1994\", \"Population\": 3620000.0}, {\"Country Name\": \"Netherlands\", \"Year\": \"1994\", \"Population\": 15382838.0}, {\"Country Name\": \"Greece\", \"Year\": \"1994\", \"Population\": 10512922.0}, {\"Country Name\": \"Australia\", \"Year\": \"1995\", \"Population\": 18072000.0}, {\"Country Name\": \"New Zealand\", \"Year\": \"1995\", \"Population\": 3673400.0}, {\"Country Name\": \"Netherlands\", \"Year\": \"1995\", \"Population\": 15459006.0}, {\"Country Name\": \"Greece\", \"Year\": \"1995\", \"Population\": 10562153.0}, {\"Country Name\": \"Australia\", \"Year\": \"1996\", \"Population\": 18311000.0}, {\"Country Name\": \"New Zealand\", \"Year\": \"1996\", \"Population\": 3732000.0}, {\"Country Name\": \"Netherlands\", \"Year\": \"1996\", \"Population\": 15530498.0}, {\"Country Name\": \"Greece\", \"Year\": \"1996\", \"Population\": 10608800.0}, {\"Country Name\": \"Australia\", \"Year\": \"1997\", \"Population\": 18517000.0}, {\"Country Name\": \"New Zealand\", \"Year\": \"1997\", \"Population\": 3781300.0}, {\"Country Name\": \"Netherlands\", \"Year\": \"1997\", \"Population\": 15610650.0}, {\"Country Name\": \"Greece\", \"Year\": \"1997\", \"Population\": 10661259.0}, {\"Country Name\": \"Australia\", \"Year\": \"1998\", \"Population\": 18711000.0}, {\"Country Name\": \"New Zealand\", \"Year\": \"1998\", \"Population\": 3815000.0}, {\"Country Name\": \"Netherlands\", \"Year\": \"1998\", \"Population\": 15707209.0}, {\"Country Name\": \"Greece\", \"Year\": \"1998\", \"Population\": 10720509.0}, {\"Country Name\": \"Australia\", \"Year\": \"1999\", \"Population\": 18926000.0}, {\"Country Name\": \"New Zealand\", \"Year\": \"1999\", \"Population\": 3835100.0}, {\"Country Name\": \"Netherlands\", \"Year\": \"1999\", \"Population\": 15812088.0}, {\"Country Name\": \"Greece\", \"Year\": \"1999\", \"Population\": 10761698.0}, {\"Country Name\": \"Australia\", \"Year\": \"2000\", \"Population\": 19153000.0}, {\"Country Name\": \"New Zealand\", \"Year\": \"2000\", \"Population\": 3857700.0}, {\"Country Name\": \"Netherlands\", \"Year\": \"2000\", \"Population\": 15925513.0}, {\"Country Name\": \"Greece\", \"Year\": \"2000\", \"Population\": 10805808.0}, {\"Country Name\": \"Australia\", \"Year\": \"2001\", \"Population\": 19413000.0}, {\"Country Name\": \"New Zealand\", \"Year\": \"2001\", \"Population\": 3880500.0}, {\"Country Name\": \"Netherlands\", \"Year\": \"2001\", \"Population\": 16046180.0}, {\"Country Name\": \"Greece\", \"Year\": \"2001\", \"Population\": 10862132.0}, {\"Country Name\": \"Australia\", \"Year\": \"2002\", \"Population\": 19651400.0}, {\"Country Name\": \"New Zealand\", \"Year\": \"2002\", \"Population\": 3948500.0}, {\"Country Name\": \"Netherlands\", \"Year\": \"2002\", \"Population\": 16148929.0}, {\"Country Name\": \"Greece\", \"Year\": \"2002\", \"Population\": 10902022.0}, {\"Country Name\": \"Australia\", \"Year\": \"2003\", \"Population\": 19895400.0}, {\"Country Name\": \"New Zealand\", \"Year\": \"2003\", \"Population\": 4027200.0}, {\"Country Name\": \"Netherlands\", \"Year\": \"2003\", \"Population\": 16225302.0}, {\"Country Name\": \"Greece\", \"Year\": \"2003\", \"Population\": 10928070.0}, {\"Country Name\": \"Australia\", \"Year\": \"2004\", \"Population\": 20127400.0}, {\"Country Name\": \"New Zealand\", \"Year\": \"2004\", \"Population\": 4087500.0}, {\"Country Name\": \"Netherlands\", \"Year\": \"2004\", \"Population\": 16281779.0}, {\"Country Name\": \"Greece\", \"Year\": \"2004\", \"Population\": 10955141.0}, {\"Country Name\": \"Australia\", \"Year\": \"2005\", \"Population\": 20394800.0}, {\"Country Name\": \"New Zealand\", \"Year\": \"2005\", \"Population\": 4133900.0}, {\"Country Name\": \"Netherlands\", \"Year\": \"2005\", \"Population\": 16319868.0}, {\"Country Name\": \"Greece\", \"Year\": \"2005\", \"Population\": 10987314.0}, {\"Country Name\": \"Australia\", \"Year\": \"2006\", \"Population\": 20697900.0}, {\"Country Name\": \"New Zealand\", \"Year\": \"2006\", \"Population\": 4184600.0}, {\"Country Name\": \"Netherlands\", \"Year\": \"2006\", \"Population\": 16346101.0}, {\"Country Name\": \"Greece\", \"Year\": \"2006\", \"Population\": 11020362.0}, {\"Country Name\": \"Australia\", \"Year\": \"2007\", \"Population\": 20827600.0}, {\"Country Name\": \"New Zealand\", \"Year\": \"2007\", \"Population\": 4223800.0}, {\"Country Name\": \"Netherlands\", \"Year\": \"2007\", \"Population\": 16381696.0}, {\"Country Name\": \"Greece\", \"Year\": \"2007\", \"Population\": 11048473.0}, {\"Country Name\": \"Australia\", \"Year\": \"2008\", \"Population\": 21249200.0}, {\"Country Name\": \"New Zealand\", \"Year\": \"2008\", \"Population\": 4259800.0}, {\"Country Name\": \"Netherlands\", \"Year\": \"2008\", \"Population\": 16445593.0}, {\"Country Name\": \"Greece\", \"Year\": \"2008\", \"Population\": 11077841.0}, {\"Country Name\": \"Australia\", \"Year\": \"2009\", \"Population\": 21691700.0}, {\"Country Name\": \"New Zealand\", \"Year\": \"2009\", \"Population\": 4302600.0}, {\"Country Name\": \"Netherlands\", \"Year\": \"2009\", \"Population\": 16530388.0}, {\"Country Name\": \"Greece\", \"Year\": \"2009\", \"Population\": 11107017.0}, {\"Country Name\": \"Australia\", \"Year\": \"2010\", \"Population\": 22031750.0}, {\"Country Name\": \"New Zealand\", \"Year\": \"2010\", \"Population\": 4350700.0}, {\"Country Name\": \"Netherlands\", \"Year\": \"2010\", \"Population\": 16615394.0}, {\"Country Name\": \"Greece\", \"Year\": \"2010\", \"Population\": 11121341.0}, {\"Country Name\": \"Australia\", \"Year\": \"2011\", \"Population\": 22340024.0}, {\"Country Name\": \"New Zealand\", \"Year\": \"2011\", \"Population\": 4384000.0}, {\"Country Name\": \"Netherlands\", \"Year\": \"2011\", \"Population\": 16693074.0}, {\"Country Name\": \"Greece\", \"Year\": \"2011\", \"Population\": 11104899.0}, {\"Country Name\": \"Australia\", \"Year\": \"2012\", \"Population\": 22742475.0}, {\"Country Name\": \"New Zealand\", \"Year\": \"2012\", \"Population\": 4408100.0}, {\"Country Name\": \"Netherlands\", \"Year\": \"2012\", \"Population\": 16754962.0}, {\"Country Name\": \"Greece\", \"Year\": \"2012\", \"Population\": 11045011.0}, {\"Country Name\": \"Australia\", \"Year\": \"2013\", \"Population\": 23145901.0}, {\"Country Name\": \"New Zealand\", \"Year\": \"2013\", \"Population\": 4442100.0}, {\"Country Name\": \"Netherlands\", \"Year\": \"2013\", \"Population\": 16804432.0}, {\"Country Name\": \"Greece\", \"Year\": \"2013\", \"Population\": 10965211.0}, {\"Country Name\": \"Australia\", \"Year\": \"2014\", \"Population\": 23504138.0}, {\"Country Name\": \"New Zealand\", \"Year\": \"2014\", \"Population\": 4509700.0}, {\"Country Name\": \"Netherlands\", \"Year\": \"2014\", \"Population\": 16865008.0}, {\"Country Name\": \"Greece\", \"Year\": \"2014\", \"Population\": 10892413.0}, {\"Country Name\": \"Australia\", \"Year\": \"2015\", \"Population\": 23850784.0}, {\"Country Name\": \"New Zealand\", \"Year\": \"2015\", \"Population\": 4595700.0}, {\"Country Name\": \"Netherlands\", \"Year\": \"2015\", \"Population\": 16939923.0}, {\"Country Name\": \"Greece\", \"Year\": \"2015\", \"Population\": 10820883.0}, {\"Country Name\": \"Australia\", \"Year\": \"2016\", \"Population\": 24210809.0}, {\"Country Name\": \"New Zealand\", \"Year\": \"2016\", \"Population\": 4693200.0}, {\"Country Name\": \"Netherlands\", \"Year\": \"2016\", \"Population\": 17030314.0}, {\"Country Name\": \"Greece\", \"Year\": \"2016\", \"Population\": 10775971.0}, {\"Country Name\": \"Australia\", \"Year\": \"2017\", \"Population\": 24598933.0}, {\"Country Name\": \"New Zealand\", \"Year\": \"2017\", \"Population\": 4793900.0}, {\"Country Name\": \"Netherlands\", \"Year\": \"2017\", \"Population\": 17132854.0}, {\"Country Name\": \"Greece\", \"Year\": \"2017\", \"Population\": 10760421.0}]}};\n",
       "const opt = {};\n",
       "const type = \"vega-lite\";\n",
       "const id = \"f9c8d5ae-f8de-4648-99a1-37f810cf8461\";\n",
       "\n",
       "const output_area = this;\n",
       "\n",
       "require([\"nbextensions/jupyter-vega/index\"], function(vega) {\n",
       "  const target = document.createElement(\"div\");\n",
       "  target.id = id;\n",
       "  target.className = \"vega-embed\";\n",
       "\n",
       "  const style = document.createElement(\"style\");\n",
       "  style.textContent = [\n",
       "    \".vega-embed .error p {\",\n",
       "    \"  color: firebrick;\",\n",
       "    \"  font-size: 14px;\",\n",
       "    \"}\",\n",
       "  ].join(\"\\\\n\");\n",
       "\n",
       "  // element is a jQuery wrapped DOM element inside the output area\n",
       "  // see http://ipython.readthedocs.io/en/stable/api/generated/\\\n",
       "  // IPython.display.html#IPython.display.Javascript.__init__\n",
       "  element[0].appendChild(target);\n",
       "  element[0].appendChild(style);\n",
       "\n",
       "  vega.render(\"#\" + id, spec, type, opt, output_area);\n",
       "}, function (err) {\n",
       "  if (err.requireType !== \"scripterror\") {\n",
       "    throw(err);\n",
       "  }\n",
       "});\n"
      ],
      "text/plain": [
       "<vega.vegalite.VegaLite at 0x1f83de8abe0>"
      ]
     },
     "metadata": {
      "jupyter-vega": "#f9c8d5ae-f8de-4648-99a1-37f810cf8461"
     },
     "output_type": "display_data"
    },
    {
     "data": {
      "text/plain": []
     },
     "execution_count": 131,
     "metadata": {},
     "output_type": "execute_result"
    },
    {
     "data": {
      "image/png": "[encoded data removed]"
     },
     "metadata": {
      "jupyter-vega": "#f9c8d5ae-f8de-4648-99a1-37f810cf8461"
     },
     "output_type": "display_data"
    }
   ],
   "source": [
    "chart.mark_point() # refer to page 155"
   ]
  },
  {
   "cell_type": "code",
   "execution_count": 137,
   "metadata": {},
   "outputs": [
    {
     "data": {
      "application/javascript": [
       "const spec = {\"config\": {\"view\": {\"width\": 400, \"height\": 300}, \"mark\": {\"tooltip\": null}}, \"data\": {\"name\": \"data-9341af2f264f56ef9b478aac9ff3e147\"}, \"mark\": \"point\", \"encoding\": {\"x\": {\"type\": \"quantitative\", \"field\": \"Population\"}}, \"$schema\": \"https://vega.github.io/schema/vega-lite/v3.4.0.json\", \"datasets\": {\"data-9341af2f264f56ef9b478aac9ff3e147\": [{\"Country Name\": \"Australia\", \"Year\": \"1960\", \"Population\": 10276477.0}, {\"Country Name\": \"New Zealand\", \"Year\": \"1960\", \"Population\": 2371800.0}, {\"Country Name\": \"Netherlands\", \"Year\": \"1960\", \"Population\": 11486631.0}, {\"Country Name\": \"Greece\", \"Year\": \"1960\", \"Population\": 8331725.0}, {\"Country Name\": \"Australia\", \"Year\": \"1961\", \"Population\": 10483000.0}, {\"Country Name\": \"New Zealand\", \"Year\": \"1961\", \"Population\": 2419700.0}, {\"Country Name\": \"Netherlands\", \"Year\": \"1961\", \"Population\": 11638712.0}, {\"Country Name\": \"Greece\", \"Year\": \"1961\", \"Population\": 8398050.0}, {\"Country Name\": \"Australia\", \"Year\": \"1962\", \"Population\": 10742000.0}, {\"Country Name\": \"New Zealand\", \"Year\": \"1962\", \"Population\": 2482000.0}, {\"Country Name\": \"Netherlands\", \"Year\": \"1962\", \"Population\": 11805689.0}, {\"Country Name\": \"Greece\", \"Year\": \"1962\", \"Population\": 8448233.0}, {\"Country Name\": \"Australia\", \"Year\": \"1963\", \"Population\": 10950000.0}, {\"Country Name\": \"New Zealand\", \"Year\": \"1963\", \"Population\": 2531800.0}, {\"Country Name\": \"Netherlands\", \"Year\": \"1963\", \"Population\": 11965966.0}, {\"Country Name\": \"Greece\", \"Year\": \"1963\", \"Population\": 8479625.0}, {\"Country Name\": \"Australia\", \"Year\": \"1964\", \"Population\": 11167000.0}, {\"Country Name\": \"New Zealand\", \"Year\": \"1964\", \"Population\": 2585400.0}, {\"Country Name\": \"Netherlands\", \"Year\": \"1964\", \"Population\": 12127120.0}, {\"Country Name\": \"Greece\", \"Year\": \"1964\", \"Population\": 8510429.0}, {\"Country Name\": \"Australia\", \"Year\": \"1965\", \"Population\": 11388000.0}, {\"Country Name\": \"New Zealand\", \"Year\": \"1965\", \"Population\": 2628400.0}, {\"Country Name\": \"Netherlands\", \"Year\": \"1965\", \"Population\": 12294732.0}, {\"Country Name\": \"Greece\", \"Year\": \"1965\", \"Population\": 8550333.0}, {\"Country Name\": \"Australia\", \"Year\": \"1966\", \"Population\": 11651000.0}, {\"Country Name\": \"New Zealand\", \"Year\": \"1966\", \"Population\": 2675900.0}, {\"Country Name\": \"Netherlands\", \"Year\": \"1966\", \"Population\": 12456251.0}, {\"Country Name\": \"Greece\", \"Year\": \"1966\", \"Population\": 8613651.0}, {\"Country Name\": \"Australia\", \"Year\": \"1967\", \"Population\": 11799000.0}, {\"Country Name\": \"New Zealand\", \"Year\": \"1967\", \"Population\": 2724100.0}, {\"Country Name\": \"Netherlands\", \"Year\": \"1967\", \"Population\": 12598201.0}, {\"Country Name\": \"Greece\", \"Year\": \"1967\", \"Population\": 8684088.0}, {\"Country Name\": \"Australia\", \"Year\": \"1968\", \"Population\": 12009000.0}, {\"Country Name\": \"New Zealand\", \"Year\": \"1968\", \"Population\": 2748100.0}, {\"Country Name\": \"Netherlands\", \"Year\": \"1968\", \"Population\": 12729721.0}, {\"Country Name\": \"Greece\", \"Year\": \"1968\", \"Population\": 8740765.0}, {\"Country Name\": \"Australia\", \"Year\": \"1969\", \"Population\": 12263000.0}, {\"Country Name\": \"New Zealand\", \"Year\": \"1969\", \"Population\": 2772800.0}, {\"Country Name\": \"Netherlands\", \"Year\": \"1969\", \"Population\": 12877984.0}, {\"Country Name\": \"Greece\", \"Year\": \"1969\", \"Population\": 8772764.0}, {\"Country Name\": \"Australia\", \"Year\": \"1970\", \"Population\": 12507000.0}, {\"Country Name\": \"New Zealand\", \"Year\": \"1970\", \"Population\": 2810700.0}, {\"Country Name\": \"Netherlands\", \"Year\": \"1970\", \"Population\": 13038526.0}, {\"Country Name\": \"Greece\", \"Year\": \"1970\", \"Population\": 8792806.0}, {\"Country Name\": \"Australia\", \"Year\": \"1971\", \"Population\": 12937000.0}, {\"Country Name\": \"New Zealand\", \"Year\": \"1971\", \"Population\": 2853000.0}, {\"Country Name\": \"Netherlands\", \"Year\": \"1971\", \"Population\": 13194497.0}, {\"Country Name\": \"Greece\", \"Year\": \"1971\", \"Population\": 8831036.0}, {\"Country Name\": \"Australia\", \"Year\": \"1972\", \"Population\": 13177000.0}, {\"Country Name\": \"New Zealand\", \"Year\": \"1972\", \"Population\": 2903900.0}, {\"Country Name\": \"Netherlands\", \"Year\": \"1972\", \"Population\": 13328593.0}, {\"Country Name\": \"Greece\", \"Year\": \"1972\", \"Population\": 8888628.0}, {\"Country Name\": \"Australia\", \"Year\": \"1973\", \"Population\": 13380000.0}, {\"Country Name\": \"New Zealand\", \"Year\": \"1973\", \"Population\": 2961300.0}, {\"Country Name\": \"Netherlands\", \"Year\": \"1973\", \"Population\": 13439322.0}, {\"Country Name\": \"Greece\", \"Year\": \"1973\", \"Population\": 8929086.0}, {\"Country Name\": \"Australia\", \"Year\": \"1974\", \"Population\": 13723000.0}, {\"Country Name\": \"New Zealand\", \"Year\": \"1974\", \"Population\": 3023700.0}, {\"Country Name\": \"Netherlands\", \"Year\": \"1974\", \"Population\": 13545056.0}, {\"Country Name\": \"Greece\", \"Year\": \"1974\", \"Population\": 8962022.0}, {\"Country Name\": \"Australia\", \"Year\": \"1975\", \"Population\": 13893000.0}, {\"Country Name\": \"New Zealand\", \"Year\": \"1975\", \"Population\": 3083100.0}, {\"Country Name\": \"Netherlands\", \"Year\": \"1975\", \"Population\": 13666335.0}, {\"Country Name\": \"Greece\", \"Year\": \"1975\", \"Population\": 9046541.0}, {\"Country Name\": \"Australia\", \"Year\": \"1976\", \"Population\": 14033000.0}, {\"Country Name\": \"New Zealand\", \"Year\": \"1976\", \"Population\": 3110500.0}, {\"Country Name\": \"Netherlands\", \"Year\": \"1976\", \"Population\": 13774037.0}, {\"Country Name\": \"Greece\", \"Year\": \"1976\", \"Population\": 9188150.0}, {\"Country Name\": \"Australia\", \"Year\": \"1977\", \"Population\": 14192000.0}, {\"Country Name\": \"New Zealand\", \"Year\": \"1977\", \"Population\": 3120200.0}, {\"Country Name\": \"Netherlands\", \"Year\": \"1977\", \"Population\": 13856185.0}, {\"Country Name\": \"Greece\", \"Year\": \"1977\", \"Population\": 9308479.0}, {\"Country Name\": \"Australia\", \"Year\": \"1978\", \"Population\": 14358000.0}, {\"Country Name\": \"New Zealand\", \"Year\": \"1978\", \"Population\": 3121200.0}, {\"Country Name\": \"Netherlands\", \"Year\": \"1978\", \"Population\": 13941700.0}, {\"Country Name\": \"Greece\", \"Year\": \"1978\", \"Population\": 9429959.0}, {\"Country Name\": \"Australia\", \"Year\": \"1979\", \"Population\": 14514000.0}, {\"Country Name\": \"New Zealand\", \"Year\": \"1979\", \"Population\": 3109000.0}, {\"Country Name\": \"Netherlands\", \"Year\": \"1979\", \"Population\": 14038270.0}, {\"Country Name\": \"Greece\", \"Year\": \"1979\", \"Population\": 9548258.0}, {\"Country Name\": \"Australia\", \"Year\": \"1980\", \"Population\": 14692000.0}, {\"Country Name\": \"New Zealand\", \"Year\": \"1980\", \"Population\": 3112900.0}, {\"Country Name\": \"Netherlands\", \"Year\": \"1980\", \"Population\": 14149800.0}, {\"Country Name\": \"Greece\", \"Year\": \"1980\", \"Population\": 9642505.0}, {\"Country Name\": \"Australia\", \"Year\": \"1981\", \"Population\": 14927000.0}, {\"Country Name\": \"New Zealand\", \"Year\": \"1981\", \"Population\": 3124900.0}, {\"Country Name\": \"Netherlands\", \"Year\": \"1981\", \"Population\": 14247208.0}, {\"Country Name\": \"Greece\", \"Year\": \"1981\", \"Population\": 9729350.0}, {\"Country Name\": \"Australia\", \"Year\": \"1982\", \"Population\": 15178000.0}, {\"Country Name\": \"New Zealand\", \"Year\": \"1982\", \"Population\": 3156100.0}, {\"Country Name\": \"Netherlands\", \"Year\": \"1982\", \"Population\": 14312690.0}, {\"Country Name\": \"Greece\", \"Year\": \"1982\", \"Population\": 9789513.0}, {\"Country Name\": \"Australia\", \"Year\": \"1983\", \"Population\": 15369000.0}, {\"Country Name\": \"New Zealand\", \"Year\": \"1983\", \"Population\": 3199300.0}, {\"Country Name\": \"Netherlands\", \"Year\": \"1983\", \"Population\": 14367070.0}, {\"Country Name\": \"Greece\", \"Year\": \"1983\", \"Population\": 9846627.0}, {\"Country Name\": \"Australia\", \"Year\": \"1984\", \"Population\": 15544000.0}, {\"Country Name\": \"New Zealand\", \"Year\": \"1984\", \"Population\": 3227100.0}, {\"Country Name\": \"Netherlands\", \"Year\": \"1984\", \"Population\": 14424211.0}, {\"Country Name\": \"Greece\", \"Year\": \"1984\", \"Population\": 9895801.0}, {\"Country Name\": \"Australia\", \"Year\": \"1985\", \"Population\": 15758000.0}, {\"Country Name\": \"New Zealand\", \"Year\": \"1985\", \"Population\": 3247100.0}, {\"Country Name\": \"Netherlands\", \"Year\": \"1985\", \"Population\": 14491632.0}, {\"Country Name\": \"Greece\", \"Year\": \"1985\", \"Population\": 9934300.0}, {\"Country Name\": \"Australia\", \"Year\": \"1986\", \"Population\": 16018400.0}, {\"Country Name\": \"New Zealand\", \"Year\": \"1986\", \"Population\": 3246300.0}, {\"Country Name\": \"Netherlands\", \"Year\": \"1986\", \"Population\": 14572278.0}, {\"Country Name\": \"Greece\", \"Year\": \"1986\", \"Population\": 9967213.0}, {\"Country Name\": \"Australia\", \"Year\": \"1987\", \"Population\": 16263900.0}, {\"Country Name\": \"New Zealand\", \"Year\": \"1987\", \"Population\": 3274400.0}, {\"Country Name\": \"Netherlands\", \"Year\": \"1987\", \"Population\": 14665037.0}, {\"Country Name\": \"Greece\", \"Year\": \"1987\", \"Population\": 10000595.0}, {\"Country Name\": \"Australia\", \"Year\": \"1988\", \"Population\": 16532200.0}, {\"Country Name\": \"New Zealand\", \"Year\": \"1988\", \"Population\": 3283400.0}, {\"Country Name\": \"Netherlands\", \"Year\": \"1988\", \"Population\": 14760094.0}, {\"Country Name\": \"Greece\", \"Year\": \"1988\", \"Population\": 10036983.0}, {\"Country Name\": \"Australia\", \"Year\": \"1989\", \"Population\": 16814400.0}, {\"Country Name\": \"New Zealand\", \"Year\": \"1989\", \"Population\": 3299200.0}, {\"Country Name\": \"Netherlands\", \"Year\": \"1989\", \"Population\": 14848907.0}, {\"Country Name\": \"Greece\", \"Year\": \"1989\", \"Population\": 10089498.0}, {\"Country Name\": \"Australia\", \"Year\": \"1990\", \"Population\": 17065100.0}, {\"Country Name\": \"New Zealand\", \"Year\": \"1990\", \"Population\": 3329800.0}, {\"Country Name\": \"Netherlands\", \"Year\": \"1990\", \"Population\": 14951510.0}, {\"Country Name\": \"Greece\", \"Year\": \"1990\", \"Population\": 10196792.0}, {\"Country Name\": \"Australia\", \"Year\": \"1991\", \"Population\": 17284000.0}, {\"Country Name\": \"New Zealand\", \"Year\": \"1991\", \"Population\": 3495100.0}, {\"Country Name\": \"Netherlands\", \"Year\": \"1991\", \"Population\": 15069798.0}, {\"Country Name\": \"Greece\", \"Year\": \"1991\", \"Population\": 10319927.0}, {\"Country Name\": \"Australia\", \"Year\": \"1992\", \"Population\": 17495000.0}, {\"Country Name\": \"New Zealand\", \"Year\": \"1992\", \"Population\": 3531700.0}, {\"Country Name\": \"Netherlands\", \"Year\": \"1992\", \"Population\": 15184166.0}, {\"Country Name\": \"Greece\", \"Year\": \"1992\", \"Population\": 10399061.0}, {\"Country Name\": \"Australia\", \"Year\": \"1993\", \"Population\": 17667000.0}, {\"Country Name\": \"New Zealand\", \"Year\": \"1993\", \"Population\": 3572200.0}, {\"Country Name\": \"Netherlands\", \"Year\": \"1993\", \"Population\": 15290368.0}, {\"Country Name\": \"Greece\", \"Year\": \"1993\", \"Population\": 10460415.0}, {\"Country Name\": \"Australia\", \"Year\": \"1994\", \"Population\": 17855000.0}, {\"Country Name\": \"New Zealand\", \"Year\": \"1994\", \"Population\": 3620000.0}, {\"Country Name\": \"Netherlands\", \"Year\": \"1994\", \"Population\": 15382838.0}, {\"Country Name\": \"Greece\", \"Year\": \"1994\", \"Population\": 10512922.0}, {\"Country Name\": \"Australia\", \"Year\": \"1995\", \"Population\": 18072000.0}, {\"Country Name\": \"New Zealand\", \"Year\": \"1995\", \"Population\": 3673400.0}, {\"Country Name\": \"Netherlands\", \"Year\": \"1995\", \"Population\": 15459006.0}, {\"Country Name\": \"Greece\", \"Year\": \"1995\", \"Population\": 10562153.0}, {\"Country Name\": \"Australia\", \"Year\": \"1996\", \"Population\": 18311000.0}, {\"Country Name\": \"New Zealand\", \"Year\": \"1996\", \"Population\": 3732000.0}, {\"Country Name\": \"Netherlands\", \"Year\": \"1996\", \"Population\": 15530498.0}, {\"Country Name\": \"Greece\", \"Year\": \"1996\", \"Population\": 10608800.0}, {\"Country Name\": \"Australia\", \"Year\": \"1997\", \"Population\": 18517000.0}, {\"Country Name\": \"New Zealand\", \"Year\": \"1997\", \"Population\": 3781300.0}, {\"Country Name\": \"Netherlands\", \"Year\": \"1997\", \"Population\": 15610650.0}, {\"Country Name\": \"Greece\", \"Year\": \"1997\", \"Population\": 10661259.0}, {\"Country Name\": \"Australia\", \"Year\": \"1998\", \"Population\": 18711000.0}, {\"Country Name\": \"New Zealand\", \"Year\": \"1998\", \"Population\": 3815000.0}, {\"Country Name\": \"Netherlands\", \"Year\": \"1998\", \"Population\": 15707209.0}, {\"Country Name\": \"Greece\", \"Year\": \"1998\", \"Population\": 10720509.0}, {\"Country Name\": \"Australia\", \"Year\": \"1999\", \"Population\": 18926000.0}, {\"Country Name\": \"New Zealand\", \"Year\": \"1999\", \"Population\": 3835100.0}, {\"Country Name\": \"Netherlands\", \"Year\": \"1999\", \"Population\": 15812088.0}, {\"Country Name\": \"Greece\", \"Year\": \"1999\", \"Population\": 10761698.0}, {\"Country Name\": \"Australia\", \"Year\": \"2000\", \"Population\": 19153000.0}, {\"Country Name\": \"New Zealand\", \"Year\": \"2000\", \"Population\": 3857700.0}, {\"Country Name\": \"Netherlands\", \"Year\": \"2000\", \"Population\": 15925513.0}, {\"Country Name\": \"Greece\", \"Year\": \"2000\", \"Population\": 10805808.0}, {\"Country Name\": \"Australia\", \"Year\": \"2001\", \"Population\": 19413000.0}, {\"Country Name\": \"New Zealand\", \"Year\": \"2001\", \"Population\": 3880500.0}, {\"Country Name\": \"Netherlands\", \"Year\": \"2001\", \"Population\": 16046180.0}, {\"Country Name\": \"Greece\", \"Year\": \"2001\", \"Population\": 10862132.0}, {\"Country Name\": \"Australia\", \"Year\": \"2002\", \"Population\": 19651400.0}, {\"Country Name\": \"New Zealand\", \"Year\": \"2002\", \"Population\": 3948500.0}, {\"Country Name\": \"Netherlands\", \"Year\": \"2002\", \"Population\": 16148929.0}, {\"Country Name\": \"Greece\", \"Year\": \"2002\", \"Population\": 10902022.0}, {\"Country Name\": \"Australia\", \"Year\": \"2003\", \"Population\": 19895400.0}, {\"Country Name\": \"New Zealand\", \"Year\": \"2003\", \"Population\": 4027200.0}, {\"Country Name\": \"Netherlands\", \"Year\": \"2003\", \"Population\": 16225302.0}, {\"Country Name\": \"Greece\", \"Year\": \"2003\", \"Population\": 10928070.0}, {\"Country Name\": \"Australia\", \"Year\": \"2004\", \"Population\": 20127400.0}, {\"Country Name\": \"New Zealand\", \"Year\": \"2004\", \"Population\": 4087500.0}, {\"Country Name\": \"Netherlands\", \"Year\": \"2004\", \"Population\": 16281779.0}, {\"Country Name\": \"Greece\", \"Year\": \"2004\", \"Population\": 10955141.0}, {\"Country Name\": \"Australia\", \"Year\": \"2005\", \"Population\": 20394800.0}, {\"Country Name\": \"New Zealand\", \"Year\": \"2005\", \"Population\": 4133900.0}, {\"Country Name\": \"Netherlands\", \"Year\": \"2005\", \"Population\": 16319868.0}, {\"Country Name\": \"Greece\", \"Year\": \"2005\", \"Population\": 10987314.0}, {\"Country Name\": \"Australia\", \"Year\": \"2006\", \"Population\": 20697900.0}, {\"Country Name\": \"New Zealand\", \"Year\": \"2006\", \"Population\": 4184600.0}, {\"Country Name\": \"Netherlands\", \"Year\": \"2006\", \"Population\": 16346101.0}, {\"Country Name\": \"Greece\", \"Year\": \"2006\", \"Population\": 11020362.0}, {\"Country Name\": \"Australia\", \"Year\": \"2007\", \"Population\": 20827600.0}, {\"Country Name\": \"New Zealand\", \"Year\": \"2007\", \"Population\": 4223800.0}, {\"Country Name\": \"Netherlands\", \"Year\": \"2007\", \"Population\": 16381696.0}, {\"Country Name\": \"Greece\", \"Year\": \"2007\", \"Population\": 11048473.0}, {\"Country Name\": \"Australia\", \"Year\": \"2008\", \"Population\": 21249200.0}, {\"Country Name\": \"New Zealand\", \"Year\": \"2008\", \"Population\": 4259800.0}, {\"Country Name\": \"Netherlands\", \"Year\": \"2008\", \"Population\": 16445593.0}, {\"Country Name\": \"Greece\", \"Year\": \"2008\", \"Population\": 11077841.0}, {\"Country Name\": \"Australia\", \"Year\": \"2009\", \"Population\": 21691700.0}, {\"Country Name\": \"New Zealand\", \"Year\": \"2009\", \"Population\": 4302600.0}, {\"Country Name\": \"Netherlands\", \"Year\": \"2009\", \"Population\": 16530388.0}, {\"Country Name\": \"Greece\", \"Year\": \"2009\", \"Population\": 11107017.0}, {\"Country Name\": \"Australia\", \"Year\": \"2010\", \"Population\": 22031750.0}, {\"Country Name\": \"New Zealand\", \"Year\": \"2010\", \"Population\": 4350700.0}, {\"Country Name\": \"Netherlands\", \"Year\": \"2010\", \"Population\": 16615394.0}, {\"Country Name\": \"Greece\", \"Year\": \"2010\", \"Population\": 11121341.0}, {\"Country Name\": \"Australia\", \"Year\": \"2011\", \"Population\": 22340024.0}, {\"Country Name\": \"New Zealand\", \"Year\": \"2011\", \"Population\": 4384000.0}, {\"Country Name\": \"Netherlands\", \"Year\": \"2011\", \"Population\": 16693074.0}, {\"Country Name\": \"Greece\", \"Year\": \"2011\", \"Population\": 11104899.0}, {\"Country Name\": \"Australia\", \"Year\": \"2012\", \"Population\": 22742475.0}, {\"Country Name\": \"New Zealand\", \"Year\": \"2012\", \"Population\": 4408100.0}, {\"Country Name\": \"Netherlands\", \"Year\": \"2012\", \"Population\": 16754962.0}, {\"Country Name\": \"Greece\", \"Year\": \"2012\", \"Population\": 11045011.0}, {\"Country Name\": \"Australia\", \"Year\": \"2013\", \"Population\": 23145901.0}, {\"Country Name\": \"New Zealand\", \"Year\": \"2013\", \"Population\": 4442100.0}, {\"Country Name\": \"Netherlands\", \"Year\": \"2013\", \"Population\": 16804432.0}, {\"Country Name\": \"Greece\", \"Year\": \"2013\", \"Population\": 10965211.0}, {\"Country Name\": \"Australia\", \"Year\": \"2014\", \"Population\": 23504138.0}, {\"Country Name\": \"New Zealand\", \"Year\": \"2014\", \"Population\": 4509700.0}, {\"Country Name\": \"Netherlands\", \"Year\": \"2014\", \"Population\": 16865008.0}, {\"Country Name\": \"Greece\", \"Year\": \"2014\", \"Population\": 10892413.0}, {\"Country Name\": \"Australia\", \"Year\": \"2015\", \"Population\": 23850784.0}, {\"Country Name\": \"New Zealand\", \"Year\": \"2015\", \"Population\": 4595700.0}, {\"Country Name\": \"Netherlands\", \"Year\": \"2015\", \"Population\": 16939923.0}, {\"Country Name\": \"Greece\", \"Year\": \"2015\", \"Population\": 10820883.0}, {\"Country Name\": \"Australia\", \"Year\": \"2016\", \"Population\": 24210809.0}, {\"Country Name\": \"New Zealand\", \"Year\": \"2016\", \"Population\": 4693200.0}, {\"Country Name\": \"Netherlands\", \"Year\": \"2016\", \"Population\": 17030314.0}, {\"Country Name\": \"Greece\", \"Year\": \"2016\", \"Population\": 10775971.0}, {\"Country Name\": \"Australia\", \"Year\": \"2017\", \"Population\": 24598933.0}, {\"Country Name\": \"New Zealand\", \"Year\": \"2017\", \"Population\": 4793900.0}, {\"Country Name\": \"Netherlands\", \"Year\": \"2017\", \"Population\": 17132854.0}, {\"Country Name\": \"Greece\", \"Year\": \"2017\", \"Population\": 10760421.0}]}};\n",
       "const opt = {};\n",
       "const type = \"vega-lite\";\n",
       "const id = \"a4d31da3-bc4d-4143-bbba-d8d4ffac8aaa\";\n",
       "\n",
       "const output_area = this;\n",
       "\n",
       "require([\"nbextensions/jupyter-vega/index\"], function(vega) {\n",
       "  const target = document.createElement(\"div\");\n",
       "  target.id = id;\n",
       "  target.className = \"vega-embed\";\n",
       "\n",
       "  const style = document.createElement(\"style\");\n",
       "  style.textContent = [\n",
       "    \".vega-embed .error p {\",\n",
       "    \"  color: firebrick;\",\n",
       "    \"  font-size: 14px;\",\n",
       "    \"}\",\n",
       "  ].join(\"\\\\n\");\n",
       "\n",
       "  // element is a jQuery wrapped DOM element inside the output area\n",
       "  // see http://ipython.readthedocs.io/en/stable/api/generated/\\\n",
       "  // IPython.display.html#IPython.display.Javascript.__init__\n",
       "  element[0].appendChild(target);\n",
       "  element[0].appendChild(style);\n",
       "\n",
       "  vega.render(\"#\" + id, spec, type, opt, output_area);\n",
       "}, function (err) {\n",
       "  if (err.requireType !== \"scripterror\") {\n",
       "    throw(err);\n",
       "  }\n",
       "});\n"
      ],
      "text/plain": [
       "<vega.vegalite.VegaLite at 0x1f83e1699b0>"
      ]
     },
     "metadata": {
      "jupyter-vega": "#a4d31da3-bc4d-4143-bbba-d8d4ffac8aaa"
     },
     "output_type": "display_data"
    },
    {
     "data": {
      "text/plain": []
     },
     "execution_count": 137,
     "metadata": {},
     "output_type": "execute_result"
    },
    {
     "data": {
      "image/png": "[encoded data removed]"
     },
     "metadata": {
      "jupyter-vega": "#a4d31da3-bc4d-4143-bbba-d8d4ffac8aaa"
     },
     "output_type": "display_data"
    }
   ],
   "source": [
    "tick_chart = chart.mark_point()\n",
    "tick_chart.encode(\n",
    "    x=\"Population\"\n",
    ")"
   ]
  },
  {
   "cell_type": "code",
   "execution_count": 140,
   "metadata": {},
   "outputs": [
    {
     "data": {
      "application/javascript": [
       "const spec = {\"config\": {\"view\": {\"width\": 400, \"height\": 300}, \"mark\": {\"tooltip\": null}}, \"data\": {\"name\": \"data-9341af2f264f56ef9b478aac9ff3e147\"}, \"mark\": \"point\", \"encoding\": {\"color\": {\"type\": \"nominal\", \"field\": \"Country Name\"}, \"x\": {\"type\": \"nominal\", \"field\": \"Year\"}, \"y\": {\"type\": \"quantitative\", \"field\": \"Population\"}}, \"$schema\": \"https://vega.github.io/schema/vega-lite/v3.4.0.json\", \"datasets\": {\"data-9341af2f264f56ef9b478aac9ff3e147\": [{\"Country Name\": \"Australia\", \"Year\": \"1960\", \"Population\": 10276477.0}, {\"Country Name\": \"New Zealand\", \"Year\": \"1960\", \"Population\": 2371800.0}, {\"Country Name\": \"Netherlands\", \"Year\": \"1960\", \"Population\": 11486631.0}, {\"Country Name\": \"Greece\", \"Year\": \"1960\", \"Population\": 8331725.0}, {\"Country Name\": \"Australia\", \"Year\": \"1961\", \"Population\": 10483000.0}, {\"Country Name\": \"New Zealand\", \"Year\": \"1961\", \"Population\": 2419700.0}, {\"Country Name\": \"Netherlands\", \"Year\": \"1961\", \"Population\": 11638712.0}, {\"Country Name\": \"Greece\", \"Year\": \"1961\", \"Population\": 8398050.0}, {\"Country Name\": \"Australia\", \"Year\": \"1962\", \"Population\": 10742000.0}, {\"Country Name\": \"New Zealand\", \"Year\": \"1962\", \"Population\": 2482000.0}, {\"Country Name\": \"Netherlands\", \"Year\": \"1962\", \"Population\": 11805689.0}, {\"Country Name\": \"Greece\", \"Year\": \"1962\", \"Population\": 8448233.0}, {\"Country Name\": \"Australia\", \"Year\": \"1963\", \"Population\": 10950000.0}, {\"Country Name\": \"New Zealand\", \"Year\": \"1963\", \"Population\": 2531800.0}, {\"Country Name\": \"Netherlands\", \"Year\": \"1963\", \"Population\": 11965966.0}, {\"Country Name\": \"Greece\", \"Year\": \"1963\", \"Population\": 8479625.0}, {\"Country Name\": \"Australia\", \"Year\": \"1964\", \"Population\": 11167000.0}, {\"Country Name\": \"New Zealand\", \"Year\": \"1964\", \"Population\": 2585400.0}, {\"Country Name\": \"Netherlands\", \"Year\": \"1964\", \"Population\": 12127120.0}, {\"Country Name\": \"Greece\", \"Year\": \"1964\", \"Population\": 8510429.0}, {\"Country Name\": \"Australia\", \"Year\": \"1965\", \"Population\": 11388000.0}, {\"Country Name\": \"New Zealand\", \"Year\": \"1965\", \"Population\": 2628400.0}, {\"Country Name\": \"Netherlands\", \"Year\": \"1965\", \"Population\": 12294732.0}, {\"Country Name\": \"Greece\", \"Year\": \"1965\", \"Population\": 8550333.0}, {\"Country Name\": \"Australia\", \"Year\": \"1966\", \"Population\": 11651000.0}, {\"Country Name\": \"New Zealand\", \"Year\": \"1966\", \"Population\": 2675900.0}, {\"Country Name\": \"Netherlands\", \"Year\": \"1966\", \"Population\": 12456251.0}, {\"Country Name\": \"Greece\", \"Year\": \"1966\", \"Population\": 8613651.0}, {\"Country Name\": \"Australia\", \"Year\": \"1967\", \"Population\": 11799000.0}, {\"Country Name\": \"New Zealand\", \"Year\": \"1967\", \"Population\": 2724100.0}, {\"Country Name\": \"Netherlands\", \"Year\": \"1967\", \"Population\": 12598201.0}, {\"Country Name\": \"Greece\", \"Year\": \"1967\", \"Population\": 8684088.0}, {\"Country Name\": \"Australia\", \"Year\": \"1968\", \"Population\": 12009000.0}, {\"Country Name\": \"New Zealand\", \"Year\": \"1968\", \"Population\": 2748100.0}, {\"Country Name\": \"Netherlands\", \"Year\": \"1968\", \"Population\": 12729721.0}, {\"Country Name\": \"Greece\", \"Year\": \"1968\", \"Population\": 8740765.0}, {\"Country Name\": \"Australia\", \"Year\": \"1969\", \"Population\": 12263000.0}, {\"Country Name\": \"New Zealand\", \"Year\": \"1969\", \"Population\": 2772800.0}, {\"Country Name\": \"Netherlands\", \"Year\": \"1969\", \"Population\": 12877984.0}, {\"Country Name\": \"Greece\", \"Year\": \"1969\", \"Population\": 8772764.0}, {\"Country Name\": \"Australia\", \"Year\": \"1970\", \"Population\": 12507000.0}, {\"Country Name\": \"New Zealand\", \"Year\": \"1970\", \"Population\": 2810700.0}, {\"Country Name\": \"Netherlands\", \"Year\": \"1970\", \"Population\": 13038526.0}, {\"Country Name\": \"Greece\", \"Year\": \"1970\", \"Population\": 8792806.0}, {\"Country Name\": \"Australia\", \"Year\": \"1971\", \"Population\": 12937000.0}, {\"Country Name\": \"New Zealand\", \"Year\": \"1971\", \"Population\": 2853000.0}, {\"Country Name\": \"Netherlands\", \"Year\": \"1971\", \"Population\": 13194497.0}, {\"Country Name\": \"Greece\", \"Year\": \"1971\", \"Population\": 8831036.0}, {\"Country Name\": \"Australia\", \"Year\": \"1972\", \"Population\": 13177000.0}, {\"Country Name\": \"New Zealand\", \"Year\": \"1972\", \"Population\": 2903900.0}, {\"Country Name\": \"Netherlands\", \"Year\": \"1972\", \"Population\": 13328593.0}, {\"Country Name\": \"Greece\", \"Year\": \"1972\", \"Population\": 8888628.0}, {\"Country Name\": \"Australia\", \"Year\": \"1973\", \"Population\": 13380000.0}, {\"Country Name\": \"New Zealand\", \"Year\": \"1973\", \"Population\": 2961300.0}, {\"Country Name\": \"Netherlands\", \"Year\": \"1973\", \"Population\": 13439322.0}, {\"Country Name\": \"Greece\", \"Year\": \"1973\", \"Population\": 8929086.0}, {\"Country Name\": \"Australia\", \"Year\": \"1974\", \"Population\": 13723000.0}, {\"Country Name\": \"New Zealand\", \"Year\": \"1974\", \"Population\": 3023700.0}, {\"Country Name\": \"Netherlands\", \"Year\": \"1974\", \"Population\": 13545056.0}, {\"Country Name\": \"Greece\", \"Year\": \"1974\", \"Population\": 8962022.0}, {\"Country Name\": \"Australia\", \"Year\": \"1975\", \"Population\": 13893000.0}, {\"Country Name\": \"New Zealand\", \"Year\": \"1975\", \"Population\": 3083100.0}, {\"Country Name\": \"Netherlands\", \"Year\": \"1975\", \"Population\": 13666335.0}, {\"Country Name\": \"Greece\", \"Year\": \"1975\", \"Population\": 9046541.0}, {\"Country Name\": \"Australia\", \"Year\": \"1976\", \"Population\": 14033000.0}, {\"Country Name\": \"New Zealand\", \"Year\": \"1976\", \"Population\": 3110500.0}, {\"Country Name\": \"Netherlands\", \"Year\": \"1976\", \"Population\": 13774037.0}, {\"Country Name\": \"Greece\", \"Year\": \"1976\", \"Population\": 9188150.0}, {\"Country Name\": \"Australia\", \"Year\": \"1977\", \"Population\": 14192000.0}, {\"Country Name\": \"New Zealand\", \"Year\": \"1977\", \"Population\": 3120200.0}, {\"Country Name\": \"Netherlands\", \"Year\": \"1977\", \"Population\": 13856185.0}, {\"Country Name\": \"Greece\", \"Year\": \"1977\", \"Population\": 9308479.0}, {\"Country Name\": \"Australia\", \"Year\": \"1978\", \"Population\": 14358000.0}, {\"Country Name\": \"New Zealand\", \"Year\": \"1978\", \"Population\": 3121200.0}, {\"Country Name\": \"Netherlands\", \"Year\": \"1978\", \"Population\": 13941700.0}, {\"Country Name\": \"Greece\", \"Year\": \"1978\", \"Population\": 9429959.0}, {\"Country Name\": \"Australia\", \"Year\": \"1979\", \"Population\": 14514000.0}, {\"Country Name\": \"New Zealand\", \"Year\": \"1979\", \"Population\": 3109000.0}, {\"Country Name\": \"Netherlands\", \"Year\": \"1979\", \"Population\": 14038270.0}, {\"Country Name\": \"Greece\", \"Year\": \"1979\", \"Population\": 9548258.0}, {\"Country Name\": \"Australia\", \"Year\": \"1980\", \"Population\": 14692000.0}, {\"Country Name\": \"New Zealand\", \"Year\": \"1980\", \"Population\": 3112900.0}, {\"Country Name\": \"Netherlands\", \"Year\": \"1980\", \"Population\": 14149800.0}, {\"Country Name\": \"Greece\", \"Year\": \"1980\", \"Population\": 9642505.0}, {\"Country Name\": \"Australia\", \"Year\": \"1981\", \"Population\": 14927000.0}, {\"Country Name\": \"New Zealand\", \"Year\": \"1981\", \"Population\": 3124900.0}, {\"Country Name\": \"Netherlands\", \"Year\": \"1981\", \"Population\": 14247208.0}, {\"Country Name\": \"Greece\", \"Year\": \"1981\", \"Population\": 9729350.0}, {\"Country Name\": \"Australia\", \"Year\": \"1982\", \"Population\": 15178000.0}, {\"Country Name\": \"New Zealand\", \"Year\": \"1982\", \"Population\": 3156100.0}, {\"Country Name\": \"Netherlands\", \"Year\": \"1982\", \"Population\": 14312690.0}, {\"Country Name\": \"Greece\", \"Year\": \"1982\", \"Population\": 9789513.0}, {\"Country Name\": \"Australia\", \"Year\": \"1983\", \"Population\": 15369000.0}, {\"Country Name\": \"New Zealand\", \"Year\": \"1983\", \"Population\": 3199300.0}, {\"Country Name\": \"Netherlands\", \"Year\": \"1983\", \"Population\": 14367070.0}, {\"Country Name\": \"Greece\", \"Year\": \"1983\", \"Population\": 9846627.0}, {\"Country Name\": \"Australia\", \"Year\": \"1984\", \"Population\": 15544000.0}, {\"Country Name\": \"New Zealand\", \"Year\": \"1984\", \"Population\": 3227100.0}, {\"Country Name\": \"Netherlands\", \"Year\": \"1984\", \"Population\": 14424211.0}, {\"Country Name\": \"Greece\", \"Year\": \"1984\", \"Population\": 9895801.0}, {\"Country Name\": \"Australia\", \"Year\": \"1985\", \"Population\": 15758000.0}, {\"Country Name\": \"New Zealand\", \"Year\": \"1985\", \"Population\": 3247100.0}, {\"Country Name\": \"Netherlands\", \"Year\": \"1985\", \"Population\": 14491632.0}, {\"Country Name\": \"Greece\", \"Year\": \"1985\", \"Population\": 9934300.0}, {\"Country Name\": \"Australia\", \"Year\": \"1986\", \"Population\": 16018400.0}, {\"Country Name\": \"New Zealand\", \"Year\": \"1986\", \"Population\": 3246300.0}, {\"Country Name\": \"Netherlands\", \"Year\": \"1986\", \"Population\": 14572278.0}, {\"Country Name\": \"Greece\", \"Year\": \"1986\", \"Population\": 9967213.0}, {\"Country Name\": \"Australia\", \"Year\": \"1987\", \"Population\": 16263900.0}, {\"Country Name\": \"New Zealand\", \"Year\": \"1987\", \"Population\": 3274400.0}, {\"Country Name\": \"Netherlands\", \"Year\": \"1987\", \"Population\": 14665037.0}, {\"Country Name\": \"Greece\", \"Year\": \"1987\", \"Population\": 10000595.0}, {\"Country Name\": \"Australia\", \"Year\": \"1988\", \"Population\": 16532200.0}, {\"Country Name\": \"New Zealand\", \"Year\": \"1988\", \"Population\": 3283400.0}, {\"Country Name\": \"Netherlands\", \"Year\": \"1988\", \"Population\": 14760094.0}, {\"Country Name\": \"Greece\", \"Year\": \"1988\", \"Population\": 10036983.0}, {\"Country Name\": \"Australia\", \"Year\": \"1989\", \"Population\": 16814400.0}, {\"Country Name\": \"New Zealand\", \"Year\": \"1989\", \"Population\": 3299200.0}, {\"Country Name\": \"Netherlands\", \"Year\": \"1989\", \"Population\": 14848907.0}, {\"Country Name\": \"Greece\", \"Year\": \"1989\", \"Population\": 10089498.0}, {\"Country Name\": \"Australia\", \"Year\": \"1990\", \"Population\": 17065100.0}, {\"Country Name\": \"New Zealand\", \"Year\": \"1990\", \"Population\": 3329800.0}, {\"Country Name\": \"Netherlands\", \"Year\": \"1990\", \"Population\": 14951510.0}, {\"Country Name\": \"Greece\", \"Year\": \"1990\", \"Population\": 10196792.0}, {\"Country Name\": \"Australia\", \"Year\": \"1991\", \"Population\": 17284000.0}, {\"Country Name\": \"New Zealand\", \"Year\": \"1991\", \"Population\": 3495100.0}, {\"Country Name\": \"Netherlands\", \"Year\": \"1991\", \"Population\": 15069798.0}, {\"Country Name\": \"Greece\", \"Year\": \"1991\", \"Population\": 10319927.0}, {\"Country Name\": \"Australia\", \"Year\": \"1992\", \"Population\": 17495000.0}, {\"Country Name\": \"New Zealand\", \"Year\": \"1992\", \"Population\": 3531700.0}, {\"Country Name\": \"Netherlands\", \"Year\": \"1992\", \"Population\": 15184166.0}, {\"Country Name\": \"Greece\", \"Year\": \"1992\", \"Population\": 10399061.0}, {\"Country Name\": \"Australia\", \"Year\": \"1993\", \"Population\": 17667000.0}, {\"Country Name\": \"New Zealand\", \"Year\": \"1993\", \"Population\": 3572200.0}, {\"Country Name\": \"Netherlands\", \"Year\": \"1993\", \"Population\": 15290368.0}, {\"Country Name\": \"Greece\", \"Year\": \"1993\", \"Population\": 10460415.0}, {\"Country Name\": \"Australia\", \"Year\": \"1994\", \"Population\": 17855000.0}, {\"Country Name\": \"New Zealand\", \"Year\": \"1994\", \"Population\": 3620000.0}, {\"Country Name\": \"Netherlands\", \"Year\": \"1994\", \"Population\": 15382838.0}, {\"Country Name\": \"Greece\", \"Year\": \"1994\", \"Population\": 10512922.0}, {\"Country Name\": \"Australia\", \"Year\": \"1995\", \"Population\": 18072000.0}, {\"Country Name\": \"New Zealand\", \"Year\": \"1995\", \"Population\": 3673400.0}, {\"Country Name\": \"Netherlands\", \"Year\": \"1995\", \"Population\": 15459006.0}, {\"Country Name\": \"Greece\", \"Year\": \"1995\", \"Population\": 10562153.0}, {\"Country Name\": \"Australia\", \"Year\": \"1996\", \"Population\": 18311000.0}, {\"Country Name\": \"New Zealand\", \"Year\": \"1996\", \"Population\": 3732000.0}, {\"Country Name\": \"Netherlands\", \"Year\": \"1996\", \"Population\": 15530498.0}, {\"Country Name\": \"Greece\", \"Year\": \"1996\", \"Population\": 10608800.0}, {\"Country Name\": \"Australia\", \"Year\": \"1997\", \"Population\": 18517000.0}, {\"Country Name\": \"New Zealand\", \"Year\": \"1997\", \"Population\": 3781300.0}, {\"Country Name\": \"Netherlands\", \"Year\": \"1997\", \"Population\": 15610650.0}, {\"Country Name\": \"Greece\", \"Year\": \"1997\", \"Population\": 10661259.0}, {\"Country Name\": \"Australia\", \"Year\": \"1998\", \"Population\": 18711000.0}, {\"Country Name\": \"New Zealand\", \"Year\": \"1998\", \"Population\": 3815000.0}, {\"Country Name\": \"Netherlands\", \"Year\": \"1998\", \"Population\": 15707209.0}, {\"Country Name\": \"Greece\", \"Year\": \"1998\", \"Population\": 10720509.0}, {\"Country Name\": \"Australia\", \"Year\": \"1999\", \"Population\": 18926000.0}, {\"Country Name\": \"New Zealand\", \"Year\": \"1999\", \"Population\": 3835100.0}, {\"Country Name\": \"Netherlands\", \"Year\": \"1999\", \"Population\": 15812088.0}, {\"Country Name\": \"Greece\", \"Year\": \"1999\", \"Population\": 10761698.0}, {\"Country Name\": \"Australia\", \"Year\": \"2000\", \"Population\": 19153000.0}, {\"Country Name\": \"New Zealand\", \"Year\": \"2000\", \"Population\": 3857700.0}, {\"Country Name\": \"Netherlands\", \"Year\": \"2000\", \"Population\": 15925513.0}, {\"Country Name\": \"Greece\", \"Year\": \"2000\", \"Population\": 10805808.0}, {\"Country Name\": \"Australia\", \"Year\": \"2001\", \"Population\": 19413000.0}, {\"Country Name\": \"New Zealand\", \"Year\": \"2001\", \"Population\": 3880500.0}, {\"Country Name\": \"Netherlands\", \"Year\": \"2001\", \"Population\": 16046180.0}, {\"Country Name\": \"Greece\", \"Year\": \"2001\", \"Population\": 10862132.0}, {\"Country Name\": \"Australia\", \"Year\": \"2002\", \"Population\": 19651400.0}, {\"Country Name\": \"New Zealand\", \"Year\": \"2002\", \"Population\": 3948500.0}, {\"Country Name\": \"Netherlands\", \"Year\": \"2002\", \"Population\": 16148929.0}, {\"Country Name\": \"Greece\", \"Year\": \"2002\", \"Population\": 10902022.0}, {\"Country Name\": \"Australia\", \"Year\": \"2003\", \"Population\": 19895400.0}, {\"Country Name\": \"New Zealand\", \"Year\": \"2003\", \"Population\": 4027200.0}, {\"Country Name\": \"Netherlands\", \"Year\": \"2003\", \"Population\": 16225302.0}, {\"Country Name\": \"Greece\", \"Year\": \"2003\", \"Population\": 10928070.0}, {\"Country Name\": \"Australia\", \"Year\": \"2004\", \"Population\": 20127400.0}, {\"Country Name\": \"New Zealand\", \"Year\": \"2004\", \"Population\": 4087500.0}, {\"Country Name\": \"Netherlands\", \"Year\": \"2004\", \"Population\": 16281779.0}, {\"Country Name\": \"Greece\", \"Year\": \"2004\", \"Population\": 10955141.0}, {\"Country Name\": \"Australia\", \"Year\": \"2005\", \"Population\": 20394800.0}, {\"Country Name\": \"New Zealand\", \"Year\": \"2005\", \"Population\": 4133900.0}, {\"Country Name\": \"Netherlands\", \"Year\": \"2005\", \"Population\": 16319868.0}, {\"Country Name\": \"Greece\", \"Year\": \"2005\", \"Population\": 10987314.0}, {\"Country Name\": \"Australia\", \"Year\": \"2006\", \"Population\": 20697900.0}, {\"Country Name\": \"New Zealand\", \"Year\": \"2006\", \"Population\": 4184600.0}, {\"Country Name\": \"Netherlands\", \"Year\": \"2006\", \"Population\": 16346101.0}, {\"Country Name\": \"Greece\", \"Year\": \"2006\", \"Population\": 11020362.0}, {\"Country Name\": \"Australia\", \"Year\": \"2007\", \"Population\": 20827600.0}, {\"Country Name\": \"New Zealand\", \"Year\": \"2007\", \"Population\": 4223800.0}, {\"Country Name\": \"Netherlands\", \"Year\": \"2007\", \"Population\": 16381696.0}, {\"Country Name\": \"Greece\", \"Year\": \"2007\", \"Population\": 11048473.0}, {\"Country Name\": \"Australia\", \"Year\": \"2008\", \"Population\": 21249200.0}, {\"Country Name\": \"New Zealand\", \"Year\": \"2008\", \"Population\": 4259800.0}, {\"Country Name\": \"Netherlands\", \"Year\": \"2008\", \"Population\": 16445593.0}, {\"Country Name\": \"Greece\", \"Year\": \"2008\", \"Population\": 11077841.0}, {\"Country Name\": \"Australia\", \"Year\": \"2009\", \"Population\": 21691700.0}, {\"Country Name\": \"New Zealand\", \"Year\": \"2009\", \"Population\": 4302600.0}, {\"Country Name\": \"Netherlands\", \"Year\": \"2009\", \"Population\": 16530388.0}, {\"Country Name\": \"Greece\", \"Year\": \"2009\", \"Population\": 11107017.0}, {\"Country Name\": \"Australia\", \"Year\": \"2010\", \"Population\": 22031750.0}, {\"Country Name\": \"New Zealand\", \"Year\": \"2010\", \"Population\": 4350700.0}, {\"Country Name\": \"Netherlands\", \"Year\": \"2010\", \"Population\": 16615394.0}, {\"Country Name\": \"Greece\", \"Year\": \"2010\", \"Population\": 11121341.0}, {\"Country Name\": \"Australia\", \"Year\": \"2011\", \"Population\": 22340024.0}, {\"Country Name\": \"New Zealand\", \"Year\": \"2011\", \"Population\": 4384000.0}, {\"Country Name\": \"Netherlands\", \"Year\": \"2011\", \"Population\": 16693074.0}, {\"Country Name\": \"Greece\", \"Year\": \"2011\", \"Population\": 11104899.0}, {\"Country Name\": \"Australia\", \"Year\": \"2012\", \"Population\": 22742475.0}, {\"Country Name\": \"New Zealand\", \"Year\": \"2012\", \"Population\": 4408100.0}, {\"Country Name\": \"Netherlands\", \"Year\": \"2012\", \"Population\": 16754962.0}, {\"Country Name\": \"Greece\", \"Year\": \"2012\", \"Population\": 11045011.0}, {\"Country Name\": \"Australia\", \"Year\": \"2013\", \"Population\": 23145901.0}, {\"Country Name\": \"New Zealand\", \"Year\": \"2013\", \"Population\": 4442100.0}, {\"Country Name\": \"Netherlands\", \"Year\": \"2013\", \"Population\": 16804432.0}, {\"Country Name\": \"Greece\", \"Year\": \"2013\", \"Population\": 10965211.0}, {\"Country Name\": \"Australia\", \"Year\": \"2014\", \"Population\": 23504138.0}, {\"Country Name\": \"New Zealand\", \"Year\": \"2014\", \"Population\": 4509700.0}, {\"Country Name\": \"Netherlands\", \"Year\": \"2014\", \"Population\": 16865008.0}, {\"Country Name\": \"Greece\", \"Year\": \"2014\", \"Population\": 10892413.0}, {\"Country Name\": \"Australia\", \"Year\": \"2015\", \"Population\": 23850784.0}, {\"Country Name\": \"New Zealand\", \"Year\": \"2015\", \"Population\": 4595700.0}, {\"Country Name\": \"Netherlands\", \"Year\": \"2015\", \"Population\": 16939923.0}, {\"Country Name\": \"Greece\", \"Year\": \"2015\", \"Population\": 10820883.0}, {\"Country Name\": \"Australia\", \"Year\": \"2016\", \"Population\": 24210809.0}, {\"Country Name\": \"New Zealand\", \"Year\": \"2016\", \"Population\": 4693200.0}, {\"Country Name\": \"Netherlands\", \"Year\": \"2016\", \"Population\": 17030314.0}, {\"Country Name\": \"Greece\", \"Year\": \"2016\", \"Population\": 10775971.0}, {\"Country Name\": \"Australia\", \"Year\": \"2017\", \"Population\": 24598933.0}, {\"Country Name\": \"New Zealand\", \"Year\": \"2017\", \"Population\": 4793900.0}, {\"Country Name\": \"Netherlands\", \"Year\": \"2017\", \"Population\": 17132854.0}, {\"Country Name\": \"Greece\", \"Year\": \"2017\", \"Population\": 10760421.0}]}};\n",
       "const opt = {};\n",
       "const type = \"vega-lite\";\n",
       "const id = \"227ea7c7-4525-4701-a5f8-977a95be85a9\";\n",
       "\n",
       "const output_area = this;\n",
       "\n",
       "require([\"nbextensions/jupyter-vega/index\"], function(vega) {\n",
       "  const target = document.createElement(\"div\");\n",
       "  target.id = id;\n",
       "  target.className = \"vega-embed\";\n",
       "\n",
       "  const style = document.createElement(\"style\");\n",
       "  style.textContent = [\n",
       "    \".vega-embed .error p {\",\n",
       "    \"  color: firebrick;\",\n",
       "    \"  font-size: 14px;\",\n",
       "    \"}\",\n",
       "  ].join(\"\\\\n\");\n",
       "\n",
       "  // element is a jQuery wrapped DOM element inside the output area\n",
       "  // see http://ipython.readthedocs.io/en/stable/api/generated/\\\n",
       "  // IPython.display.html#IPython.display.Javascript.__init__\n",
       "  element[0].appendChild(target);\n",
       "  element[0].appendChild(style);\n",
       "\n",
       "  vega.render(\"#\" + id, spec, type, opt, output_area);\n",
       "}, function (err) {\n",
       "  if (err.requireType !== \"scripterror\") {\n",
       "    throw(err);\n",
       "  }\n",
       "});\n"
      ],
      "text/plain": [
       "<vega.vegalite.VegaLite at 0x1f83de44c18>"
      ]
     },
     "metadata": {
      "jupyter-vega": "#227ea7c7-4525-4701-a5f8-977a95be85a9"
     },
     "output_type": "display_data"
    },
    {
     "data": {
      "text/plain": []
     },
     "execution_count": 140,
     "metadata": {},
     "output_type": "execute_result"
    },
    {
     "data": {
      "image/png": "[encoded data removed]"
     },
     "metadata": {
      "jupyter-vega": "#227ea7c7-4525-4701-a5f8-977a95be85a9"
     },
     "output_type": "display_data"
    }
   ],
   "source": [
    "line_chart = chart.mark_point()\n",
    "line_chart.encode(\n",
    "    x=\"Year\",\n",
    "    y=\"Population\",\n",
    "    color=\"Country Name\"\n",
    ")"
   ]
  },
  {
   "cell_type": "markdown",
   "metadata": {},
   "source": [
    "## Exercise: Plotting the MPG vs Acceleration for cars"
   ]
  },
  {
   "cell_type": "code",
   "execution_count": 141,
   "metadata": {},
   "outputs": [],
   "source": [
    "cars = pd.read_csv(\"D:/Data/Auto.csv\")"
   ]
  },
  {
   "cell_type": "code",
   "execution_count": 142,
   "metadata": {},
   "outputs": [
    {
     "data": {
      "text/html": [
       "<div>\n",
       "<style scoped>\n",
       "    .dataframe tbody tr th:only-of-type {\n",
       "        vertical-align: middle;\n",
       "    }\n",
       "\n",
       "    .dataframe tbody tr th {\n",
       "        vertical-align: top;\n",
       "    }\n",
       "\n",
       "    .dataframe thead th {\n",
       "        text-align: right;\n",
       "    }\n",
       "</style>\n",
       "<table border=\"1\" class=\"dataframe\">\n",
       "  <thead>\n",
       "    <tr style=\"text-align: right;\">\n",
       "      <th></th>\n",
       "      <th>Unnamed: 0</th>\n",
       "      <th>mpg</th>\n",
       "      <th>cylinders</th>\n",
       "      <th>displacement</th>\n",
       "      <th>horsepower</th>\n",
       "      <th>weight</th>\n",
       "      <th>acceleration</th>\n",
       "      <th>year</th>\n",
       "      <th>origin</th>\n",
       "      <th>name</th>\n",
       "    </tr>\n",
       "  </thead>\n",
       "  <tbody>\n",
       "    <tr>\n",
       "      <th>0</th>\n",
       "      <td>1</td>\n",
       "      <td>18.0</td>\n",
       "      <td>8</td>\n",
       "      <td>307.0</td>\n",
       "      <td>130</td>\n",
       "      <td>3504</td>\n",
       "      <td>12.0</td>\n",
       "      <td>70</td>\n",
       "      <td>1</td>\n",
       "      <td>chevrolet chevelle malibu</td>\n",
       "    </tr>\n",
       "    <tr>\n",
       "      <th>1</th>\n",
       "      <td>2</td>\n",
       "      <td>15.0</td>\n",
       "      <td>8</td>\n",
       "      <td>350.0</td>\n",
       "      <td>165</td>\n",
       "      <td>3693</td>\n",
       "      <td>11.5</td>\n",
       "      <td>70</td>\n",
       "      <td>1</td>\n",
       "      <td>buick skylark 320</td>\n",
       "    </tr>\n",
       "    <tr>\n",
       "      <th>2</th>\n",
       "      <td>3</td>\n",
       "      <td>18.0</td>\n",
       "      <td>8</td>\n",
       "      <td>318.0</td>\n",
       "      <td>150</td>\n",
       "      <td>3436</td>\n",
       "      <td>11.0</td>\n",
       "      <td>70</td>\n",
       "      <td>1</td>\n",
       "      <td>plymouth satellite</td>\n",
       "    </tr>\n",
       "    <tr>\n",
       "      <th>3</th>\n",
       "      <td>4</td>\n",
       "      <td>16.0</td>\n",
       "      <td>8</td>\n",
       "      <td>304.0</td>\n",
       "      <td>150</td>\n",
       "      <td>3433</td>\n",
       "      <td>12.0</td>\n",
       "      <td>70</td>\n",
       "      <td>1</td>\n",
       "      <td>amc rebel sst</td>\n",
       "    </tr>\n",
       "    <tr>\n",
       "      <th>4</th>\n",
       "      <td>5</td>\n",
       "      <td>17.0</td>\n",
       "      <td>8</td>\n",
       "      <td>302.0</td>\n",
       "      <td>140</td>\n",
       "      <td>3449</td>\n",
       "      <td>10.5</td>\n",
       "      <td>70</td>\n",
       "      <td>1</td>\n",
       "      <td>ford torino</td>\n",
       "    </tr>\n",
       "  </tbody>\n",
       "</table>\n",
       "</div>"
      ],
      "text/plain": [
       "   Unnamed: 0   mpg  cylinders  displacement  horsepower  weight  \\\n",
       "0           1  18.0          8         307.0         130    3504   \n",
       "1           2  15.0          8         350.0         165    3693   \n",
       "2           3  18.0          8         318.0         150    3436   \n",
       "3           4  16.0          8         304.0         150    3433   \n",
       "4           5  17.0          8         302.0         140    3449   \n",
       "\n",
       "   acceleration  year  origin                       name  \n",
       "0          12.0    70       1  chevrolet chevelle malibu  \n",
       "1          11.5    70       1          buick skylark 320  \n",
       "2          11.0    70       1         plymouth satellite  \n",
       "3          12.0    70       1              amc rebel sst  \n",
       "4          10.5    70       1                ford torino  "
      ]
     },
     "execution_count": 142,
     "metadata": {},
     "output_type": "execute_result"
    }
   ],
   "source": [
    "cars.head()"
   ]
  },
  {
   "cell_type": "code",
   "execution_count": 147,
   "metadata": {},
   "outputs": [
    {
     "data": {
      "application/javascript": [
       "const spec = {\"config\": {\"view\": {\"width\": 400, \"height\": 300}, \"mark\": {\"tooltip\": null}}, \"data\": {\"name\": \"data-c499972ef24d4621100528a696b755b4\"}, \"mark\": \"point\", \"encoding\": {\"color\": {\"type\": \"quantitative\", \"field\": \"origin\"}, \"x\": {\"type\": \"quantitative\", \"field\": \"acceleration\"}, \"y\": {\"type\": \"quantitative\", \"field\": \"mpg\"}}, \"$schema\": \"https://vega.github.io/schema/vega-lite/v3.4.0.json\", \"datasets\": {\"data-c499972ef24d4621100528a696b755b4\": [{\"name\": \"chevrolet chevelle malibu\", \"mpg\": 18.0, \"acceleration\": 12.0, \"origin\": 1}, {\"name\": \"buick skylark 320\", \"mpg\": 15.0, \"acceleration\": 11.5, \"origin\": 1}, {\"name\": \"plymouth satellite\", \"mpg\": 18.0, \"acceleration\": 11.0, \"origin\": 1}, {\"name\": \"amc rebel sst\", \"mpg\": 16.0, \"acceleration\": 12.0, \"origin\": 1}, {\"name\": \"ford torino\", \"mpg\": 17.0, \"acceleration\": 10.5, \"origin\": 1}, {\"name\": \"ford galaxie 500\", \"mpg\": 15.0, \"acceleration\": 10.0, \"origin\": 1}, {\"name\": \"chevrolet impala\", \"mpg\": 14.0, \"acceleration\": 9.0, \"origin\": 1}, {\"name\": \"plymouth fury iii\", \"mpg\": 14.0, \"acceleration\": 8.5, \"origin\": 1}, {\"name\": \"pontiac catalina\", \"mpg\": 14.0, \"acceleration\": 10.0, \"origin\": 1}, {\"name\": \"amc ambassador dpl\", \"mpg\": 15.0, \"acceleration\": 8.5, \"origin\": 1}, {\"name\": \"dodge challenger se\", \"mpg\": 15.0, \"acceleration\": 10.0, \"origin\": 1}, {\"name\": \"plymouth 'cuda 340\", \"mpg\": 14.0, \"acceleration\": 8.0, \"origin\": 1}, {\"name\": \"chevrolet monte carlo\", \"mpg\": 15.0, \"acceleration\": 9.5, \"origin\": 1}, {\"name\": \"buick estate wagon (sw)\", \"mpg\": 14.0, \"acceleration\": 10.0, \"origin\": 1}, {\"name\": \"toyota corona mark ii\", \"mpg\": 24.0, \"acceleration\": 15.0, \"origin\": 3}, {\"name\": \"plymouth duster\", \"mpg\": 22.0, \"acceleration\": 15.5, \"origin\": 1}, {\"name\": \"amc hornet\", \"mpg\": 18.0, \"acceleration\": 15.5, \"origin\": 1}, {\"name\": \"ford maverick\", \"mpg\": 21.0, \"acceleration\": 16.0, \"origin\": 1}, {\"name\": \"datsun pl510\", \"mpg\": 27.0, \"acceleration\": 14.5, \"origin\": 3}, {\"name\": \"volkswagen 1131 deluxe sedan\", \"mpg\": 26.0, \"acceleration\": 20.5, \"origin\": 2}, {\"name\": \"peugeot 504\", \"mpg\": 25.0, \"acceleration\": 17.5, \"origin\": 2}, {\"name\": \"audi 100 ls\", \"mpg\": 24.0, \"acceleration\": 14.5, \"origin\": 2}, {\"name\": \"saab 99e\", \"mpg\": 25.0, \"acceleration\": 17.5, \"origin\": 2}, {\"name\": \"bmw 2002\", \"mpg\": 26.0, \"acceleration\": 12.5, \"origin\": 2}, {\"name\": \"amc gremlin\", \"mpg\": 21.0, \"acceleration\": 15.0, \"origin\": 1}, {\"name\": \"ford f250\", \"mpg\": 10.0, \"acceleration\": 14.0, \"origin\": 1}, {\"name\": \"chevy c20\", \"mpg\": 10.0, \"acceleration\": 15.0, \"origin\": 1}, {\"name\": \"dodge d200\", \"mpg\": 11.0, \"acceleration\": 13.5, \"origin\": 1}, {\"name\": \"hi 1200d\", \"mpg\": 9.0, \"acceleration\": 18.5, \"origin\": 1}, {\"name\": \"datsun pl510\", \"mpg\": 27.0, \"acceleration\": 14.5, \"origin\": 3}, {\"name\": \"chevrolet vega 2300\", \"mpg\": 28.0, \"acceleration\": 15.5, \"origin\": 1}, {\"name\": \"toyota corona\", \"mpg\": 25.0, \"acceleration\": 14.0, \"origin\": 3}, {\"name\": \"amc gremlin\", \"mpg\": 19.0, \"acceleration\": 13.0, \"origin\": 1}, {\"name\": \"plymouth satellite custom\", \"mpg\": 16.0, \"acceleration\": 15.5, \"origin\": 1}, {\"name\": \"chevrolet chevelle malibu\", \"mpg\": 17.0, \"acceleration\": 15.5, \"origin\": 1}, {\"name\": \"ford torino 500\", \"mpg\": 19.0, \"acceleration\": 15.5, \"origin\": 1}, {\"name\": \"amc matador\", \"mpg\": 18.0, \"acceleration\": 15.5, \"origin\": 1}, {\"name\": \"chevrolet impala\", \"mpg\": 14.0, \"acceleration\": 12.0, \"origin\": 1}, {\"name\": \"pontiac catalina brougham\", \"mpg\": 14.0, \"acceleration\": 11.5, \"origin\": 1}, {\"name\": \"ford galaxie 500\", \"mpg\": 14.0, \"acceleration\": 13.5, \"origin\": 1}, {\"name\": \"plymouth fury iii\", \"mpg\": 14.0, \"acceleration\": 13.0, \"origin\": 1}, {\"name\": \"dodge monaco (sw)\", \"mpg\": 12.0, \"acceleration\": 11.5, \"origin\": 1}, {\"name\": \"ford country squire (sw)\", \"mpg\": 13.0, \"acceleration\": 12.0, \"origin\": 1}, {\"name\": \"pontiac safari (sw)\", \"mpg\": 13.0, \"acceleration\": 12.0, \"origin\": 1}, {\"name\": \"amc hornet sportabout (sw)\", \"mpg\": 18.0, \"acceleration\": 13.5, \"origin\": 1}, {\"name\": \"chevrolet vega (sw)\", \"mpg\": 22.0, \"acceleration\": 19.0, \"origin\": 1}, {\"name\": \"pontiac firebird\", \"mpg\": 19.0, \"acceleration\": 15.0, \"origin\": 1}, {\"name\": \"ford mustang\", \"mpg\": 18.0, \"acceleration\": 14.5, \"origin\": 1}, {\"name\": \"mercury capri 2000\", \"mpg\": 23.0, \"acceleration\": 14.0, \"origin\": 1}, {\"name\": \"opel 1900\", \"mpg\": 28.0, \"acceleration\": 14.0, \"origin\": 2}, {\"name\": \"peugeot 304\", \"mpg\": 30.0, \"acceleration\": 19.5, \"origin\": 2}, {\"name\": \"fiat 124b\", \"mpg\": 30.0, \"acceleration\": 14.5, \"origin\": 2}, {\"name\": \"toyota corolla 1200\", \"mpg\": 31.0, \"acceleration\": 19.0, \"origin\": 3}, {\"name\": \"datsun 1200\", \"mpg\": 35.0, \"acceleration\": 18.0, \"origin\": 3}, {\"name\": \"volkswagen model 111\", \"mpg\": 27.0, \"acceleration\": 19.0, \"origin\": 2}, {\"name\": \"plymouth cricket\", \"mpg\": 26.0, \"acceleration\": 20.5, \"origin\": 1}, {\"name\": \"toyota corona hardtop\", \"mpg\": 24.0, \"acceleration\": 15.5, \"origin\": 3}, {\"name\": \"dodge colt hardtop\", \"mpg\": 25.0, \"acceleration\": 17.0, \"origin\": 1}, {\"name\": \"volkswagen type 3\", \"mpg\": 23.0, \"acceleration\": 23.5, \"origin\": 2}, {\"name\": \"chevrolet vega\", \"mpg\": 20.0, \"acceleration\": 19.5, \"origin\": 1}, {\"name\": \"ford pinto runabout\", \"mpg\": 21.0, \"acceleration\": 16.5, \"origin\": 1}, {\"name\": \"chevrolet impala\", \"mpg\": 13.0, \"acceleration\": 12.0, \"origin\": 1}, {\"name\": \"pontiac catalina\", \"mpg\": 14.0, \"acceleration\": 12.0, \"origin\": 1}, {\"name\": \"plymouth fury iii\", \"mpg\": 15.0, \"acceleration\": 13.5, \"origin\": 1}, {\"name\": \"ford galaxie 500\", \"mpg\": 14.0, \"acceleration\": 13.0, \"origin\": 1}, {\"name\": \"amc ambassador sst\", \"mpg\": 17.0, \"acceleration\": 11.5, \"origin\": 1}, {\"name\": \"mercury marquis\", \"mpg\": 11.0, \"acceleration\": 11.0, \"origin\": 1}, {\"name\": \"buick lesabre custom\", \"mpg\": 13.0, \"acceleration\": 13.5, \"origin\": 1}, {\"name\": \"oldsmobile delta 88 royale\", \"mpg\": 12.0, \"acceleration\": 13.5, \"origin\": 1}, {\"name\": \"chrysler newport royal\", \"mpg\": 13.0, \"acceleration\": 12.5, \"origin\": 1}, {\"name\": \"mazda rx2 coupe\", \"mpg\": 19.0, \"acceleration\": 13.5, \"origin\": 3}, {\"name\": \"amc matador (sw)\", \"mpg\": 15.0, \"acceleration\": 12.5, \"origin\": 1}, {\"name\": \"chevrolet chevelle concours (sw)\", \"mpg\": 13.0, \"acceleration\": 14.0, \"origin\": 1}, {\"name\": \"ford gran torino (sw)\", \"mpg\": 13.0, \"acceleration\": 16.0, \"origin\": 1}, {\"name\": \"plymouth satellite custom (sw)\", \"mpg\": 14.0, \"acceleration\": 14.0, \"origin\": 1}, {\"name\": \"volvo 145e (sw)\", \"mpg\": 18.0, \"acceleration\": 14.5, \"origin\": 2}, {\"name\": \"volkswagen 411 (sw)\", \"mpg\": 22.0, \"acceleration\": 18.0, \"origin\": 2}, {\"name\": \"peugeot 504 (sw)\", \"mpg\": 21.0, \"acceleration\": 19.5, \"origin\": 2}, {\"name\": \"renault 12 (sw)\", \"mpg\": 26.0, \"acceleration\": 18.0, \"origin\": 2}, {\"name\": \"ford pinto (sw)\", \"mpg\": 22.0, \"acceleration\": 16.0, \"origin\": 1}, {\"name\": \"datsun 510 (sw)\", \"mpg\": 28.0, \"acceleration\": 17.0, \"origin\": 3}, {\"name\": \"toyouta corona mark ii (sw)\", \"mpg\": 23.0, \"acceleration\": 14.5, \"origin\": 3}, {\"name\": \"dodge colt (sw)\", \"mpg\": 28.0, \"acceleration\": 15.0, \"origin\": 1}, {\"name\": \"toyota corolla 1600 (sw)\", \"mpg\": 27.0, \"acceleration\": 16.5, \"origin\": 3}, {\"name\": \"buick century 350\", \"mpg\": 13.0, \"acceleration\": 13.0, \"origin\": 1}, {\"name\": \"amc matador\", \"mpg\": 14.0, \"acceleration\": 11.5, \"origin\": 1}, {\"name\": \"chevrolet malibu\", \"mpg\": 13.0, \"acceleration\": 13.0, \"origin\": 1}, {\"name\": \"ford gran torino\", \"mpg\": 14.0, \"acceleration\": 14.5, \"origin\": 1}, {\"name\": \"dodge coronet custom\", \"mpg\": 15.0, \"acceleration\": 12.5, \"origin\": 1}, {\"name\": \"mercury marquis brougham\", \"mpg\": 12.0, \"acceleration\": 11.5, \"origin\": 1}, {\"name\": \"chevrolet caprice classic\", \"mpg\": 13.0, \"acceleration\": 12.0, \"origin\": 1}, {\"name\": \"ford ltd\", \"mpg\": 13.0, \"acceleration\": 13.0, \"origin\": 1}, {\"name\": \"plymouth fury gran sedan\", \"mpg\": 14.0, \"acceleration\": 14.5, \"origin\": 1}, {\"name\": \"chrysler new yorker brougham\", \"mpg\": 13.0, \"acceleration\": 11.0, \"origin\": 1}, {\"name\": \"buick electra 225 custom\", \"mpg\": 12.0, \"acceleration\": 11.0, \"origin\": 1}, {\"name\": \"amc ambassador brougham\", \"mpg\": 13.0, \"acceleration\": 11.0, \"origin\": 1}, {\"name\": \"plymouth valiant\", \"mpg\": 18.0, \"acceleration\": 16.5, \"origin\": 1}, {\"name\": \"chevrolet nova custom\", \"mpg\": 16.0, \"acceleration\": 18.0, \"origin\": 1}, {\"name\": \"amc hornet\", \"mpg\": 18.0, \"acceleration\": 16.0, \"origin\": 1}, {\"name\": \"ford maverick\", \"mpg\": 18.0, \"acceleration\": 16.5, \"origin\": 1}, {\"name\": \"plymouth duster\", \"mpg\": 23.0, \"acceleration\": 16.0, \"origin\": 1}, {\"name\": \"volkswagen super beetle\", \"mpg\": 26.0, \"acceleration\": 21.0, \"origin\": 2}, {\"name\": \"chevrolet impala\", \"mpg\": 11.0, \"acceleration\": 14.0, \"origin\": 1}, {\"name\": \"ford country\", \"mpg\": 12.0, \"acceleration\": 12.5, \"origin\": 1}, {\"name\": \"plymouth custom suburb\", \"mpg\": 13.0, \"acceleration\": 13.0, \"origin\": 1}, {\"name\": \"oldsmobile vista cruiser\", \"mpg\": 12.0, \"acceleration\": 12.5, \"origin\": 1}, {\"name\": \"amc gremlin\", \"mpg\": 18.0, \"acceleration\": 15.0, \"origin\": 1}, {\"name\": \"toyota carina\", \"mpg\": 20.0, \"acceleration\": 19.0, \"origin\": 3}, {\"name\": \"chevrolet vega\", \"mpg\": 21.0, \"acceleration\": 19.5, \"origin\": 1}, {\"name\": \"datsun 610\", \"mpg\": 22.0, \"acceleration\": 16.5, \"origin\": 3}, {\"name\": \"maxda rx3\", \"mpg\": 18.0, \"acceleration\": 13.5, \"origin\": 3}, {\"name\": \"ford pinto\", \"mpg\": 19.0, \"acceleration\": 18.5, \"origin\": 1}, {\"name\": \"mercury capri v6\", \"mpg\": 21.0, \"acceleration\": 14.0, \"origin\": 1}, {\"name\": \"fiat 124 sport coupe\", \"mpg\": 26.0, \"acceleration\": 15.5, \"origin\": 2}, {\"name\": \"chevrolet monte carlo s\", \"mpg\": 15.0, \"acceleration\": 13.0, \"origin\": 1}, {\"name\": \"pontiac grand prix\", \"mpg\": 16.0, \"acceleration\": 9.5, \"origin\": 1}, {\"name\": \"fiat 128\", \"mpg\": 29.0, \"acceleration\": 19.5, \"origin\": 2}, {\"name\": \"opel manta\", \"mpg\": 24.0, \"acceleration\": 15.5, \"origin\": 2}, {\"name\": \"audi 100ls\", \"mpg\": 20.0, \"acceleration\": 14.0, \"origin\": 2}, {\"name\": \"volvo 144ea\", \"mpg\": 19.0, \"acceleration\": 15.5, \"origin\": 2}, {\"name\": \"dodge dart custom\", \"mpg\": 15.0, \"acceleration\": 11.0, \"origin\": 1}, {\"name\": \"saab 99le\", \"mpg\": 24.0, \"acceleration\": 14.0, \"origin\": 2}, {\"name\": \"toyota mark ii\", \"mpg\": 20.0, \"acceleration\": 13.5, \"origin\": 3}, {\"name\": \"oldsmobile omega\", \"mpg\": 11.0, \"acceleration\": 11.0, \"origin\": 1}, {\"name\": \"plymouth duster\", \"mpg\": 20.0, \"acceleration\": 16.5, \"origin\": 1}, {\"name\": \"amc hornet\", \"mpg\": 19.0, \"acceleration\": 16.0, \"origin\": 1}, {\"name\": \"chevrolet nova\", \"mpg\": 15.0, \"acceleration\": 17.0, \"origin\": 1}, {\"name\": \"datsun b210\", \"mpg\": 31.0, \"acceleration\": 19.0, \"origin\": 3}, {\"name\": \"ford pinto\", \"mpg\": 26.0, \"acceleration\": 16.5, \"origin\": 1}, {\"name\": \"toyota corolla 1200\", \"mpg\": 32.0, \"acceleration\": 21.0, \"origin\": 3}, {\"name\": \"chevrolet vega\", \"mpg\": 25.0, \"acceleration\": 17.0, \"origin\": 1}, {\"name\": \"chevrolet chevelle malibu classic\", \"mpg\": 16.0, \"acceleration\": 17.0, \"origin\": 1}, {\"name\": \"amc matador\", \"mpg\": 16.0, \"acceleration\": 18.0, \"origin\": 1}, {\"name\": \"plymouth satellite sebring\", \"mpg\": 18.0, \"acceleration\": 16.5, \"origin\": 1}, {\"name\": \"ford gran torino\", \"mpg\": 16.0, \"acceleration\": 14.0, \"origin\": 1}, {\"name\": \"buick century luxus (sw)\", \"mpg\": 13.0, \"acceleration\": 14.5, \"origin\": 1}, {\"name\": \"dodge coronet custom (sw)\", \"mpg\": 14.0, \"acceleration\": 13.5, \"origin\": 1}, {\"name\": \"ford gran torino (sw)\", \"mpg\": 14.0, \"acceleration\": 16.0, \"origin\": 1}, {\"name\": \"amc matador (sw)\", \"mpg\": 14.0, \"acceleration\": 15.5, \"origin\": 1}, {\"name\": \"audi fox\", \"mpg\": 29.0, \"acceleration\": 16.5, \"origin\": 2}, {\"name\": \"volkswagen dasher\", \"mpg\": 26.0, \"acceleration\": 15.5, \"origin\": 2}, {\"name\": \"opel manta\", \"mpg\": 26.0, \"acceleration\": 14.5, \"origin\": 2}, {\"name\": \"toyota corona\", \"mpg\": 31.0, \"acceleration\": 16.5, \"origin\": 3}, {\"name\": \"datsun 710\", \"mpg\": 32.0, \"acceleration\": 19.0, \"origin\": 3}, {\"name\": \"dodge colt\", \"mpg\": 28.0, \"acceleration\": 14.5, \"origin\": 1}, {\"name\": \"fiat 128\", \"mpg\": 24.0, \"acceleration\": 15.5, \"origin\": 2}, {\"name\": \"fiat 124 tc\", \"mpg\": 26.0, \"acceleration\": 14.0, \"origin\": 2}, {\"name\": \"honda civic\", \"mpg\": 24.0, \"acceleration\": 15.0, \"origin\": 3}, {\"name\": \"subaru\", \"mpg\": 26.0, \"acceleration\": 15.5, \"origin\": 3}, {\"name\": \"fiat x1.9\", \"mpg\": 31.0, \"acceleration\": 16.0, \"origin\": 2}, {\"name\": \"plymouth valiant custom\", \"mpg\": 19.0, \"acceleration\": 16.0, \"origin\": 1}, {\"name\": \"chevrolet nova\", \"mpg\": 18.0, \"acceleration\": 16.0, \"origin\": 1}, {\"name\": \"mercury monarch\", \"mpg\": 15.0, \"acceleration\": 21.0, \"origin\": 1}, {\"name\": \"ford maverick\", \"mpg\": 15.0, \"acceleration\": 19.5, \"origin\": 1}, {\"name\": \"pontiac catalina\", \"mpg\": 16.0, \"acceleration\": 11.5, \"origin\": 1}, {\"name\": \"chevrolet bel air\", \"mpg\": 15.0, \"acceleration\": 14.0, \"origin\": 1}, {\"name\": \"plymouth grand fury\", \"mpg\": 16.0, \"acceleration\": 14.5, \"origin\": 1}, {\"name\": \"ford ltd\", \"mpg\": 14.0, \"acceleration\": 13.5, \"origin\": 1}, {\"name\": \"buick century\", \"mpg\": 17.0, \"acceleration\": 21.0, \"origin\": 1}, {\"name\": \"chevroelt chevelle malibu\", \"mpg\": 16.0, \"acceleration\": 18.5, \"origin\": 1}, {\"name\": \"amc matador\", \"mpg\": 15.0, \"acceleration\": 19.0, \"origin\": 1}, {\"name\": \"plymouth fury\", \"mpg\": 18.0, \"acceleration\": 19.0, \"origin\": 1}, {\"name\": \"buick skyhawk\", \"mpg\": 21.0, \"acceleration\": 15.0, \"origin\": 1}, {\"name\": \"chevrolet monza 2+2\", \"mpg\": 20.0, \"acceleration\": 13.5, \"origin\": 1}, {\"name\": \"ford mustang ii\", \"mpg\": 13.0, \"acceleration\": 12.0, \"origin\": 1}, {\"name\": \"toyota corolla\", \"mpg\": 29.0, \"acceleration\": 16.0, \"origin\": 3}, {\"name\": \"ford pinto\", \"mpg\": 23.0, \"acceleration\": 17.0, \"origin\": 1}, {\"name\": \"amc gremlin\", \"mpg\": 20.0, \"acceleration\": 16.0, \"origin\": 1}, {\"name\": \"pontiac astro\", \"mpg\": 23.0, \"acceleration\": 18.5, \"origin\": 1}, {\"name\": \"toyota corona\", \"mpg\": 24.0, \"acceleration\": 13.5, \"origin\": 3}, {\"name\": \"volkswagen dasher\", \"mpg\": 25.0, \"acceleration\": 16.5, \"origin\": 2}, {\"name\": \"datsun 710\", \"mpg\": 24.0, \"acceleration\": 17.0, \"origin\": 3}, {\"name\": \"ford pinto\", \"mpg\": 18.0, \"acceleration\": 14.5, \"origin\": 1}, {\"name\": \"volkswagen rabbit\", \"mpg\": 29.0, \"acceleration\": 14.0, \"origin\": 2}, {\"name\": \"amc pacer\", \"mpg\": 19.0, \"acceleration\": 17.0, \"origin\": 1}, {\"name\": \"audi 100ls\", \"mpg\": 23.0, \"acceleration\": 15.0, \"origin\": 2}, {\"name\": \"peugeot 504\", \"mpg\": 23.0, \"acceleration\": 17.0, \"origin\": 2}, {\"name\": \"volvo 244dl\", \"mpg\": 22.0, \"acceleration\": 14.5, \"origin\": 2}, {\"name\": \"saab 99le\", \"mpg\": 25.0, \"acceleration\": 13.5, \"origin\": 2}, {\"name\": \"honda civic cvcc\", \"mpg\": 33.0, \"acceleration\": 17.5, \"origin\": 3}, {\"name\": \"fiat 131\", \"mpg\": 28.0, \"acceleration\": 15.5, \"origin\": 2}, {\"name\": \"opel 1900\", \"mpg\": 25.0, \"acceleration\": 16.9, \"origin\": 2}, {\"name\": \"capri ii\", \"mpg\": 25.0, \"acceleration\": 14.9, \"origin\": 1}, {\"name\": \"dodge colt\", \"mpg\": 26.0, \"acceleration\": 17.7, \"origin\": 1}, {\"name\": \"renault 12tl\", \"mpg\": 27.0, \"acceleration\": 15.3, \"origin\": 2}, {\"name\": \"chevrolet chevelle malibu classic\", \"mpg\": 17.5, \"acceleration\": 13.0, \"origin\": 1}, {\"name\": \"dodge coronet brougham\", \"mpg\": 16.0, \"acceleration\": 13.0, \"origin\": 1}, {\"name\": \"amc matador\", \"mpg\": 15.5, \"acceleration\": 13.9, \"origin\": 1}, {\"name\": \"ford gran torino\", \"mpg\": 14.5, \"acceleration\": 12.8, \"origin\": 1}, {\"name\": \"plymouth valiant\", \"mpg\": 22.0, \"acceleration\": 15.4, \"origin\": 1}, {\"name\": \"chevrolet nova\", \"mpg\": 22.0, \"acceleration\": 14.5, \"origin\": 1}, {\"name\": \"ford maverick\", \"mpg\": 24.0, \"acceleration\": 17.6, \"origin\": 1}, {\"name\": \"amc hornet\", \"mpg\": 22.5, \"acceleration\": 17.6, \"origin\": 1}, {\"name\": \"chevrolet chevette\", \"mpg\": 29.0, \"acceleration\": 22.2, \"origin\": 1}, {\"name\": \"chevrolet woody\", \"mpg\": 24.5, \"acceleration\": 22.1, \"origin\": 1}, {\"name\": \"vw rabbit\", \"mpg\": 29.0, \"acceleration\": 14.2, \"origin\": 2}, {\"name\": \"honda civic\", \"mpg\": 33.0, \"acceleration\": 17.4, \"origin\": 3}, {\"name\": \"dodge aspen se\", \"mpg\": 20.0, \"acceleration\": 17.7, \"origin\": 1}, {\"name\": \"ford granada ghia\", \"mpg\": 18.0, \"acceleration\": 21.0, \"origin\": 1}, {\"name\": \"pontiac ventura sj\", \"mpg\": 18.5, \"acceleration\": 16.2, \"origin\": 1}, {\"name\": \"amc pacer d/l\", \"mpg\": 17.5, \"acceleration\": 17.8, \"origin\": 1}, {\"name\": \"volkswagen rabbit\", \"mpg\": 29.5, \"acceleration\": 12.2, \"origin\": 2}, {\"name\": \"datsun b-210\", \"mpg\": 32.0, \"acceleration\": 17.0, \"origin\": 3}, {\"name\": \"toyota corolla\", \"mpg\": 28.0, \"acceleration\": 16.4, \"origin\": 3}, {\"name\": \"ford pinto\", \"mpg\": 26.5, \"acceleration\": 13.6, \"origin\": 1}, {\"name\": \"volvo 245\", \"mpg\": 20.0, \"acceleration\": 15.7, \"origin\": 2}, {\"name\": \"plymouth volare premier v8\", \"mpg\": 13.0, \"acceleration\": 13.2, \"origin\": 1}, {\"name\": \"peugeot 504\", \"mpg\": 19.0, \"acceleration\": 21.9, \"origin\": 2}, {\"name\": \"toyota mark ii\", \"mpg\": 19.0, \"acceleration\": 15.5, \"origin\": 3}, {\"name\": \"mercedes-benz 280s\", \"mpg\": 16.5, \"acceleration\": 16.7, \"origin\": 2}, {\"name\": \"cadillac seville\", \"mpg\": 16.5, \"acceleration\": 12.1, \"origin\": 1}, {\"name\": \"chevy c10\", \"mpg\": 13.0, \"acceleration\": 12.0, \"origin\": 1}, {\"name\": \"ford f108\", \"mpg\": 13.0, \"acceleration\": 15.0, \"origin\": 1}, {\"name\": \"dodge d100\", \"mpg\": 13.0, \"acceleration\": 14.0, \"origin\": 1}, {\"name\": \"honda accord cvcc\", \"mpg\": 31.5, \"acceleration\": 18.5, \"origin\": 3}, {\"name\": \"buick opel isuzu deluxe\", \"mpg\": 30.0, \"acceleration\": 14.8, \"origin\": 1}, {\"name\": \"renault 5 gtl\", \"mpg\": 36.0, \"acceleration\": 18.6, \"origin\": 2}, {\"name\": \"plymouth arrow gs\", \"mpg\": 25.5, \"acceleration\": 15.5, \"origin\": 1}, {\"name\": \"datsun f-10 hatchback\", \"mpg\": 33.5, \"acceleration\": 16.8, \"origin\": 3}, {\"name\": \"chevrolet caprice classic\", \"mpg\": 17.5, \"acceleration\": 12.5, \"origin\": 1}, {\"name\": \"oldsmobile cutlass supreme\", \"mpg\": 17.0, \"acceleration\": 19.0, \"origin\": 1}, {\"name\": \"dodge monaco brougham\", \"mpg\": 15.5, \"acceleration\": 13.7, \"origin\": 1}, {\"name\": \"mercury cougar brougham\", \"mpg\": 15.0, \"acceleration\": 14.9, \"origin\": 1}, {\"name\": \"chevrolet concours\", \"mpg\": 17.5, \"acceleration\": 16.4, \"origin\": 1}, {\"name\": \"buick skylark\", \"mpg\": 20.5, \"acceleration\": 16.9, \"origin\": 1}, {\"name\": \"plymouth volare custom\", \"mpg\": 19.0, \"acceleration\": 17.7, \"origin\": 1}, {\"name\": \"ford granada\", \"mpg\": 18.5, \"acceleration\": 19.0, \"origin\": 1}, {\"name\": \"pontiac grand prix lj\", \"mpg\": 16.0, \"acceleration\": 11.1, \"origin\": 1}, {\"name\": \"chevrolet monte carlo landau\", \"mpg\": 15.5, \"acceleration\": 11.4, \"origin\": 1}, {\"name\": \"chrysler cordoba\", \"mpg\": 15.5, \"acceleration\": 12.2, \"origin\": 1}, {\"name\": \"ford thunderbird\", \"mpg\": 16.0, \"acceleration\": 14.5, \"origin\": 1}, {\"name\": \"volkswagen rabbit custom\", \"mpg\": 29.0, \"acceleration\": 14.5, \"origin\": 2}, {\"name\": \"pontiac sunbird coupe\", \"mpg\": 24.5, \"acceleration\": 16.0, \"origin\": 1}, {\"name\": \"toyota corolla liftback\", \"mpg\": 26.0, \"acceleration\": 18.2, \"origin\": 3}, {\"name\": \"ford mustang ii 2+2\", \"mpg\": 25.5, \"acceleration\": 15.8, \"origin\": 1}, {\"name\": \"chevrolet chevette\", \"mpg\": 30.5, \"acceleration\": 17.0, \"origin\": 1}, {\"name\": \"dodge colt m/m\", \"mpg\": 33.5, \"acceleration\": 15.9, \"origin\": 1}, {\"name\": \"subaru dl\", \"mpg\": 30.0, \"acceleration\": 16.4, \"origin\": 3}, {\"name\": \"volkswagen dasher\", \"mpg\": 30.5, \"acceleration\": 14.1, \"origin\": 2}, {\"name\": \"datsun 810\", \"mpg\": 22.0, \"acceleration\": 14.5, \"origin\": 3}, {\"name\": \"bmw 320i\", \"mpg\": 21.5, \"acceleration\": 12.8, \"origin\": 2}, {\"name\": \"mazda rx-4\", \"mpg\": 21.5, \"acceleration\": 13.5, \"origin\": 3}, {\"name\": \"volkswagen rabbit custom diesel\", \"mpg\": 43.1, \"acceleration\": 21.5, \"origin\": 2}, {\"name\": \"ford fiesta\", \"mpg\": 36.1, \"acceleration\": 14.4, \"origin\": 1}, {\"name\": \"mazda glc deluxe\", \"mpg\": 32.8, \"acceleration\": 19.4, \"origin\": 3}, {\"name\": \"datsun b210 gx\", \"mpg\": 39.4, \"acceleration\": 18.6, \"origin\": 3}, {\"name\": \"honda civic cvcc\", \"mpg\": 36.1, \"acceleration\": 16.4, \"origin\": 3}, {\"name\": \"oldsmobile cutlass salon brougham\", \"mpg\": 19.9, \"acceleration\": 15.5, \"origin\": 1}, {\"name\": \"dodge diplomat\", \"mpg\": 19.4, \"acceleration\": 13.2, \"origin\": 1}, {\"name\": \"mercury monarch ghia\", \"mpg\": 20.2, \"acceleration\": 12.8, \"origin\": 1}, {\"name\": \"pontiac phoenix lj\", \"mpg\": 19.2, \"acceleration\": 19.2, \"origin\": 1}, {\"name\": \"chevrolet malibu\", \"mpg\": 20.5, \"acceleration\": 18.2, \"origin\": 1}, {\"name\": \"ford fairmont (auto)\", \"mpg\": 20.2, \"acceleration\": 15.8, \"origin\": 1}, {\"name\": \"ford fairmont (man)\", \"mpg\": 25.1, \"acceleration\": 15.4, \"origin\": 1}, {\"name\": \"plymouth volare\", \"mpg\": 20.5, \"acceleration\": 17.2, \"origin\": 1}, {\"name\": \"amc concord\", \"mpg\": 19.4, \"acceleration\": 17.2, \"origin\": 1}, {\"name\": \"buick century special\", \"mpg\": 20.6, \"acceleration\": 15.8, \"origin\": 1}, {\"name\": \"mercury zephyr\", \"mpg\": 20.8, \"acceleration\": 16.7, \"origin\": 1}, {\"name\": \"dodge aspen\", \"mpg\": 18.6, \"acceleration\": 18.7, \"origin\": 1}, {\"name\": \"amc concord d/l\", \"mpg\": 18.1, \"acceleration\": 15.1, \"origin\": 1}, {\"name\": \"chevrolet monte carlo landau\", \"mpg\": 19.2, \"acceleration\": 13.2, \"origin\": 1}, {\"name\": \"buick regal sport coupe (turbo)\", \"mpg\": 17.7, \"acceleration\": 13.4, \"origin\": 1}, {\"name\": \"ford futura\", \"mpg\": 18.1, \"acceleration\": 11.2, \"origin\": 1}, {\"name\": \"dodge magnum xe\", \"mpg\": 17.5, \"acceleration\": 13.7, \"origin\": 1}, {\"name\": \"chevrolet chevette\", \"mpg\": 30.0, \"acceleration\": 16.5, \"origin\": 1}, {\"name\": \"toyota corona\", \"mpg\": 27.5, \"acceleration\": 14.2, \"origin\": 3}, {\"name\": \"datsun 510\", \"mpg\": 27.2, \"acceleration\": 14.7, \"origin\": 3}, {\"name\": \"dodge omni\", \"mpg\": 30.9, \"acceleration\": 14.5, \"origin\": 1}, {\"name\": \"toyota celica gt liftback\", \"mpg\": 21.1, \"acceleration\": 14.8, \"origin\": 3}, {\"name\": \"plymouth sapporo\", \"mpg\": 23.2, \"acceleration\": 16.7, \"origin\": 1}, {\"name\": \"oldsmobile starfire sx\", \"mpg\": 23.8, \"acceleration\": 17.6, \"origin\": 1}, {\"name\": \"datsun 200-sx\", \"mpg\": 23.9, \"acceleration\": 14.9, \"origin\": 3}, {\"name\": \"audi 5000\", \"mpg\": 20.3, \"acceleration\": 15.9, \"origin\": 2}, {\"name\": \"volvo 264gl\", \"mpg\": 17.0, \"acceleration\": 13.6, \"origin\": 2}, {\"name\": \"saab 99gle\", \"mpg\": 21.6, \"acceleration\": 15.7, \"origin\": 2}, {\"name\": \"peugeot 604sl\", \"mpg\": 16.2, \"acceleration\": 15.8, \"origin\": 2}, {\"name\": \"volkswagen scirocco\", \"mpg\": 31.5, \"acceleration\": 14.9, \"origin\": 2}, {\"name\": \"honda accord lx\", \"mpg\": 29.5, \"acceleration\": 16.6, \"origin\": 3}, {\"name\": \"pontiac lemans v6\", \"mpg\": 21.5, \"acceleration\": 15.4, \"origin\": 1}, {\"name\": \"mercury zephyr 6\", \"mpg\": 19.8, \"acceleration\": 18.2, \"origin\": 1}, {\"name\": \"ford fairmont 4\", \"mpg\": 22.3, \"acceleration\": 17.3, \"origin\": 1}, {\"name\": \"amc concord dl 6\", \"mpg\": 20.2, \"acceleration\": 18.2, \"origin\": 1}, {\"name\": \"dodge aspen 6\", \"mpg\": 20.6, \"acceleration\": 16.6, \"origin\": 1}, {\"name\": \"chevrolet caprice classic\", \"mpg\": 17.0, \"acceleration\": 15.4, \"origin\": 1}, {\"name\": \"ford ltd landau\", \"mpg\": 17.6, \"acceleration\": 13.4, \"origin\": 1}, {\"name\": \"mercury grand marquis\", \"mpg\": 16.5, \"acceleration\": 13.2, \"origin\": 1}, {\"name\": \"dodge st. regis\", \"mpg\": 18.2, \"acceleration\": 15.2, \"origin\": 1}, {\"name\": \"buick estate wagon (sw)\", \"mpg\": 16.9, \"acceleration\": 14.9, \"origin\": 1}, {\"name\": \"ford country squire (sw)\", \"mpg\": 15.5, \"acceleration\": 14.3, \"origin\": 1}, {\"name\": \"chevrolet malibu classic (sw)\", \"mpg\": 19.2, \"acceleration\": 15.0, \"origin\": 1}, {\"name\": \"chrysler lebaron town @ country (sw)\", \"mpg\": 18.5, \"acceleration\": 13.0, \"origin\": 1}, {\"name\": \"vw rabbit custom\", \"mpg\": 31.9, \"acceleration\": 14.0, \"origin\": 2}, {\"name\": \"maxda glc deluxe\", \"mpg\": 34.1, \"acceleration\": 15.2, \"origin\": 3}, {\"name\": \"dodge colt hatchback custom\", \"mpg\": 35.7, \"acceleration\": 14.4, \"origin\": 1}, {\"name\": \"amc spirit dl\", \"mpg\": 27.4, \"acceleration\": 15.0, \"origin\": 1}, {\"name\": \"mercedes benz 300d\", \"mpg\": 25.4, \"acceleration\": 20.1, \"origin\": 2}, {\"name\": \"cadillac eldorado\", \"mpg\": 23.0, \"acceleration\": 17.4, \"origin\": 1}, {\"name\": \"peugeot 504\", \"mpg\": 27.2, \"acceleration\": 24.8, \"origin\": 2}, {\"name\": \"oldsmobile cutlass salon brougham\", \"mpg\": 23.9, \"acceleration\": 22.2, \"origin\": 1}, {\"name\": \"plymouth horizon\", \"mpg\": 34.2, \"acceleration\": 13.2, \"origin\": 1}, {\"name\": \"plymouth horizon tc3\", \"mpg\": 34.5, \"acceleration\": 14.9, \"origin\": 1}, {\"name\": \"datsun 210\", \"mpg\": 31.8, \"acceleration\": 19.2, \"origin\": 3}, {\"name\": \"fiat strada custom\", \"mpg\": 37.3, \"acceleration\": 14.7, \"origin\": 2}, {\"name\": \"buick skylark limited\", \"mpg\": 28.4, \"acceleration\": 16.0, \"origin\": 1}, {\"name\": \"chevrolet citation\", \"mpg\": 28.8, \"acceleration\": 11.3, \"origin\": 1}, {\"name\": \"oldsmobile omega brougham\", \"mpg\": 26.8, \"acceleration\": 12.9, \"origin\": 1}, {\"name\": \"pontiac phoenix\", \"mpg\": 33.5, \"acceleration\": 13.2, \"origin\": 1}, {\"name\": \"vw rabbit\", \"mpg\": 41.5, \"acceleration\": 14.7, \"origin\": 2}, {\"name\": \"toyota corolla tercel\", \"mpg\": 38.1, \"acceleration\": 18.8, \"origin\": 3}, {\"name\": \"chevrolet chevette\", \"mpg\": 32.1, \"acceleration\": 15.5, \"origin\": 1}, {\"name\": \"datsun 310\", \"mpg\": 37.2, \"acceleration\": 16.4, \"origin\": 3}, {\"name\": \"chevrolet citation\", \"mpg\": 28.0, \"acceleration\": 16.5, \"origin\": 1}, {\"name\": \"ford fairmont\", \"mpg\": 26.4, \"acceleration\": 18.1, \"origin\": 1}, {\"name\": \"amc concord\", \"mpg\": 24.3, \"acceleration\": 20.1, \"origin\": 1}, {\"name\": \"dodge aspen\", \"mpg\": 19.1, \"acceleration\": 18.7, \"origin\": 1}, {\"name\": \"audi 4000\", \"mpg\": 34.3, \"acceleration\": 15.8, \"origin\": 2}, {\"name\": \"toyota corona liftback\", \"mpg\": 29.8, \"acceleration\": 15.5, \"origin\": 3}, {\"name\": \"mazda 626\", \"mpg\": 31.3, \"acceleration\": 17.5, \"origin\": 3}, {\"name\": \"datsun 510 hatchback\", \"mpg\": 37.0, \"acceleration\": 15.0, \"origin\": 3}, {\"name\": \"toyota corolla\", \"mpg\": 32.2, \"acceleration\": 15.2, \"origin\": 3}, {\"name\": \"mazda glc\", \"mpg\": 46.6, \"acceleration\": 17.9, \"origin\": 3}, {\"name\": \"dodge colt\", \"mpg\": 27.9, \"acceleration\": 14.4, \"origin\": 1}, {\"name\": \"datsun 210\", \"mpg\": 40.8, \"acceleration\": 19.2, \"origin\": 3}, {\"name\": \"vw rabbit c (diesel)\", \"mpg\": 44.3, \"acceleration\": 21.7, \"origin\": 2}, {\"name\": \"vw dasher (diesel)\", \"mpg\": 43.4, \"acceleration\": 23.7, \"origin\": 2}, {\"name\": \"audi 5000s (diesel)\", \"mpg\": 36.4, \"acceleration\": 19.9, \"origin\": 2}, {\"name\": \"mercedes-benz 240d\", \"mpg\": 30.0, \"acceleration\": 21.8, \"origin\": 2}, {\"name\": \"honda civic 1500 gl\", \"mpg\": 44.6, \"acceleration\": 13.8, \"origin\": 3}, {\"name\": \"subaru dl\", \"mpg\": 33.8, \"acceleration\": 18.0, \"origin\": 3}, {\"name\": \"vokswagen rabbit\", \"mpg\": 29.8, \"acceleration\": 15.3, \"origin\": 2}, {\"name\": \"datsun 280-zx\", \"mpg\": 32.7, \"acceleration\": 11.4, \"origin\": 3}, {\"name\": \"mazda rx-7 gs\", \"mpg\": 23.7, \"acceleration\": 12.5, \"origin\": 3}, {\"name\": \"triumph tr7 coupe\", \"mpg\": 35.0, \"acceleration\": 15.1, \"origin\": 2}, {\"name\": \"honda accord\", \"mpg\": 32.4, \"acceleration\": 17.0, \"origin\": 3}, {\"name\": \"plymouth reliant\", \"mpg\": 27.2, \"acceleration\": 15.7, \"origin\": 1}, {\"name\": \"buick skylark\", \"mpg\": 26.6, \"acceleration\": 16.4, \"origin\": 1}, {\"name\": \"dodge aries wagon (sw)\", \"mpg\": 25.8, \"acceleration\": 14.4, \"origin\": 1}, {\"name\": \"chevrolet citation\", \"mpg\": 23.5, \"acceleration\": 12.6, \"origin\": 1}, {\"name\": \"plymouth reliant\", \"mpg\": 30.0, \"acceleration\": 12.9, \"origin\": 1}, {\"name\": \"toyota starlet\", \"mpg\": 39.1, \"acceleration\": 16.9, \"origin\": 3}, {\"name\": \"plymouth champ\", \"mpg\": 39.0, \"acceleration\": 16.4, \"origin\": 1}, {\"name\": \"honda civic 1300\", \"mpg\": 35.1, \"acceleration\": 16.1, \"origin\": 3}, {\"name\": \"subaru\", \"mpg\": 32.3, \"acceleration\": 17.8, \"origin\": 3}, {\"name\": \"datsun 210 mpg\", \"mpg\": 37.0, \"acceleration\": 19.4, \"origin\": 3}, {\"name\": \"toyota tercel\", \"mpg\": 37.7, \"acceleration\": 17.3, \"origin\": 3}, {\"name\": \"mazda glc 4\", \"mpg\": 34.1, \"acceleration\": 16.0, \"origin\": 3}, {\"name\": \"plymouth horizon 4\", \"mpg\": 34.7, \"acceleration\": 14.9, \"origin\": 1}, {\"name\": \"ford escort 4w\", \"mpg\": 34.4, \"acceleration\": 16.2, \"origin\": 1}, {\"name\": \"ford escort 2h\", \"mpg\": 29.9, \"acceleration\": 20.7, \"origin\": 1}, {\"name\": \"volkswagen jetta\", \"mpg\": 33.0, \"acceleration\": 14.2, \"origin\": 2}, {\"name\": \"honda prelude\", \"mpg\": 33.7, \"acceleration\": 14.4, \"origin\": 3}, {\"name\": \"toyota corolla\", \"mpg\": 32.4, \"acceleration\": 16.8, \"origin\": 3}, {\"name\": \"datsun 200sx\", \"mpg\": 32.9, \"acceleration\": 14.8, \"origin\": 3}, {\"name\": \"mazda 626\", \"mpg\": 31.6, \"acceleration\": 18.3, \"origin\": 3}, {\"name\": \"peugeot 505s turbo diesel\", \"mpg\": 28.1, \"acceleration\": 20.4, \"origin\": 2}, {\"name\": \"volvo diesel\", \"mpg\": 30.7, \"acceleration\": 19.6, \"origin\": 2}, {\"name\": \"toyota cressida\", \"mpg\": 25.4, \"acceleration\": 12.6, \"origin\": 3}, {\"name\": \"datsun 810 maxima\", \"mpg\": 24.2, \"acceleration\": 13.8, \"origin\": 3}, {\"name\": \"buick century\", \"mpg\": 22.4, \"acceleration\": 15.8, \"origin\": 1}, {\"name\": \"oldsmobile cutlass ls\", \"mpg\": 26.6, \"acceleration\": 19.0, \"origin\": 1}, {\"name\": \"ford granada gl\", \"mpg\": 20.2, \"acceleration\": 17.1, \"origin\": 1}, {\"name\": \"chrysler lebaron salon\", \"mpg\": 17.6, \"acceleration\": 16.6, \"origin\": 1}, {\"name\": \"chevrolet cavalier\", \"mpg\": 28.0, \"acceleration\": 19.6, \"origin\": 1}, {\"name\": \"chevrolet cavalier wagon\", \"mpg\": 27.0, \"acceleration\": 18.6, \"origin\": 1}, {\"name\": \"chevrolet cavalier 2-door\", \"mpg\": 34.0, \"acceleration\": 18.0, \"origin\": 1}, {\"name\": \"pontiac j2000 se hatchback\", \"mpg\": 31.0, \"acceleration\": 16.2, \"origin\": 1}, {\"name\": \"dodge aries se\", \"mpg\": 29.0, \"acceleration\": 16.0, \"origin\": 1}, {\"name\": \"pontiac phoenix\", \"mpg\": 27.0, \"acceleration\": 18.0, \"origin\": 1}, {\"name\": \"ford fairmont futura\", \"mpg\": 24.0, \"acceleration\": 16.4, \"origin\": 1}, {\"name\": \"volkswagen rabbit l\", \"mpg\": 36.0, \"acceleration\": 15.3, \"origin\": 2}, {\"name\": \"mazda glc custom l\", \"mpg\": 37.0, \"acceleration\": 18.2, \"origin\": 3}, {\"name\": \"mazda glc custom\", \"mpg\": 31.0, \"acceleration\": 17.6, \"origin\": 3}, {\"name\": \"plymouth horizon miser\", \"mpg\": 38.0, \"acceleration\": 14.7, \"origin\": 1}, {\"name\": \"mercury lynx l\", \"mpg\": 36.0, \"acceleration\": 17.3, \"origin\": 1}, {\"name\": \"nissan stanza xe\", \"mpg\": 36.0, \"acceleration\": 14.5, \"origin\": 3}, {\"name\": \"honda accord\", \"mpg\": 36.0, \"acceleration\": 14.5, \"origin\": 3}, {\"name\": \"toyota corolla\", \"mpg\": 34.0, \"acceleration\": 16.9, \"origin\": 3}, {\"name\": \"honda civic\", \"mpg\": 38.0, \"acceleration\": 15.0, \"origin\": 3}, {\"name\": \"honda civic (auto)\", \"mpg\": 32.0, \"acceleration\": 15.7, \"origin\": 3}, {\"name\": \"datsun 310 gx\", \"mpg\": 38.0, \"acceleration\": 16.2, \"origin\": 3}, {\"name\": \"buick century limited\", \"mpg\": 25.0, \"acceleration\": 16.4, \"origin\": 1}, {\"name\": \"oldsmobile cutlass ciera (diesel)\", \"mpg\": 38.0, \"acceleration\": 17.0, \"origin\": 1}, {\"name\": \"chrysler lebaron medallion\", \"mpg\": 26.0, \"acceleration\": 14.5, \"origin\": 1}, {\"name\": \"ford granada l\", \"mpg\": 22.0, \"acceleration\": 14.7, \"origin\": 1}, {\"name\": \"toyota celica gt\", \"mpg\": 32.0, \"acceleration\": 13.9, \"origin\": 3}, {\"name\": \"dodge charger 2.2\", \"mpg\": 36.0, \"acceleration\": 13.0, \"origin\": 1}, {\"name\": \"chevrolet camaro\", \"mpg\": 27.0, \"acceleration\": 17.3, \"origin\": 1}, {\"name\": \"ford mustang gl\", \"mpg\": 27.0, \"acceleration\": 15.6, \"origin\": 1}, {\"name\": \"vw pickup\", \"mpg\": 44.0, \"acceleration\": 24.6, \"origin\": 2}, {\"name\": \"dodge rampage\", \"mpg\": 32.0, \"acceleration\": 11.6, \"origin\": 1}, {\"name\": \"ford ranger\", \"mpg\": 28.0, \"acceleration\": 18.6, \"origin\": 1}, {\"name\": \"chevy s-10\", \"mpg\": 31.0, \"acceleration\": 19.4, \"origin\": 1}]}};\n",
       "const opt = {};\n",
       "const type = \"vega-lite\";\n",
       "const id = \"11e4acf9-8fef-4e8f-aa8f-6b64d0c0bd51\";\n",
       "\n",
       "const output_area = this;\n",
       "\n",
       "require([\"nbextensions/jupyter-vega/index\"], function(vega) {\n",
       "  const target = document.createElement(\"div\");\n",
       "  target.id = id;\n",
       "  target.className = \"vega-embed\";\n",
       "\n",
       "  const style = document.createElement(\"style\");\n",
       "  style.textContent = [\n",
       "    \".vega-embed .error p {\",\n",
       "    \"  color: firebrick;\",\n",
       "    \"  font-size: 14px;\",\n",
       "    \"}\",\n",
       "  ].join(\"\\\\n\");\n",
       "\n",
       "  // element is a jQuery wrapped DOM element inside the output area\n",
       "  // see http://ipython.readthedocs.io/en/stable/api/generated/\\\n",
       "  // IPython.display.html#IPython.display.Javascript.__init__\n",
       "  element[0].appendChild(target);\n",
       "  element[0].appendChild(style);\n",
       "\n",
       "  vega.render(\"#\" + id, spec, type, opt, output_area);\n",
       "}, function (err) {\n",
       "  if (err.requireType !== \"scripterror\") {\n",
       "    throw(err);\n",
       "  }\n",
       "});\n"
      ],
      "text/plain": [
       "<vega.vegalite.VegaLite at 0x1f83e121748>"
      ]
     },
     "metadata": {
      "jupyter-vega": "#11e4acf9-8fef-4e8f-aa8f-6b64d0c0bd51"
     },
     "output_type": "display_data"
    },
    {
     "data": {
      "text/plain": []
     },
     "execution_count": 147,
     "metadata": {},
     "output_type": "execute_result"
    },
    {
     "data": {
      "image/png": "[encoded data removed]"
     },
     "metadata": {
      "jupyter-vega": "#11e4acf9-8fef-4e8f-aa8f-6b64d0c0bd51"
     },
     "output_type": "display_data"
    }
   ],
   "source": [
    "required_columns = ['name', 'mpg', 'acceleration', 'origin'] \n",
    "cars_filtered = cars.loc[:,required_columns]\n",
    "cars_chart = alt.Chart(cars_filtered)\n",
    "line_chart = cars_chart.mark_point()\n",
    "line_chart.encode(\n",
    "    x=\"acceleration\",\n",
    "    y=\"mpg\",\n",
    "    color=\"origin\"\n",
    ")"
   ]
  },
  {
   "cell_type": "code",
   "execution_count": null,
   "metadata": {},
   "outputs": [],
   "source": []
  }
 ],
 "metadata": {
  "kernelspec": {
   "display_name": "Python 3",
   "language": "python",
   "name": "python3"
  },
  "language_info": {
   "codemirror_mode": {
    "name": "ipython",
    "version": 3
   },
   "file_extension": ".py",
   "mimetype": "text/x-python",
   "name": "python",
   "nbconvert_exporter": "python",
   "pygments_lexer": "ipython3",
   "version": "3.7.3"
  }
 },
 "nbformat": 4,
 "nbformat_minor": 2
}
